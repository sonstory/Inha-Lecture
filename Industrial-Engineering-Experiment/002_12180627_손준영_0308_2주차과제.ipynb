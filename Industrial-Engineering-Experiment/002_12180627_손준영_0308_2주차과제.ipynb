{
 "cells": [
  {
   "cell_type": "code",
   "execution_count": 1,
   "metadata": {},
   "outputs": [
    {
     "name": "stdout",
     "output_type": "stream",
     "text": [
      "True 7289.895 7289 7289\n",
      "<class 'str'> <class 'float'> <class 'int'> <class 'str'>\n"
     ]
    }
   ],
   "source": [
    "# 1\n",
    "a = 'True'\n",
    "b = 7289.895\n",
    "c = int(b)\n",
    "d = str(c)\n",
    "\n",
    "print(a,b,c,d)\n",
    "print(type(a), type(b), type(c), type(d))"
   ]
  },
  {
   "cell_type": "code",
   "execution_count": 6,
   "metadata": {},
   "outputs": [
    {
     "name": "stdout",
     "output_type": "stream",
     "text": [
      "12180627손준영\n"
     ]
    }
   ],
   "source": [
    "# 2\n",
    "number = int(12180627)\n",
    "name = str('손준영')\n",
    "number = str(number)\n",
    "print(number + name)"
   ]
  },
  {
   "cell_type": "code",
   "execution_count": 8,
   "metadata": {},
   "outputs": [
    {
     "name": "stdout",
     "output_type": "stream",
     "text": [
      "85.25 <class 'float'>\n"
     ]
    }
   ],
   "source": [
    "# 3\n",
    "kate = int(100)\n",
    "tom = int(81)\n",
    "emma = int(93)\n",
    "sophia = int(67)\n",
    "\n",
    "average = (kate + tom + emma + sophia) / 4\n",
    "print(average, type(average))"
   ]
  },
  {
   "cell_type": "code",
   "execution_count": 16,
   "metadata": {},
   "outputs": [
    {
     "name": "stdout",
     "output_type": "stream",
     "text": [
      "83.0\n",
      "72.0\n",
      "82.66666666666667\n",
      "92.66666666666667 77.66666666666667 67.33333333333333\n",
      "korean 92.66666666666667\n"
     ]
    }
   ],
   "source": [
    "# 4\n",
    "# a의 성적 및 평균\n",
    "a_k = int(100)\n",
    "a_m = int(72)\n",
    "a_e = int(77)\n",
    "a_aver = (a_k + a_m + a_e) / 3\n",
    "print(a_aver)\n",
    "\n",
    "# b의 성적 및 평균\n",
    "b_k = int(94)\n",
    "b_m = int(64)\n",
    "b_e = int(58)\n",
    "b_aver = (b_k + b_m + b_e) / 3\n",
    "print(b_aver)\n",
    "\n",
    "# c의 성적 및 평균\n",
    "c_k = int(84)\n",
    "c_m = int(97)\n",
    "c_e = int(67)\n",
    "c_aver = (c_k + c_m + c_e) / 3\n",
    "print(c_aver)\n",
    "\n",
    "# 과목별 평균\n",
    "k_aver = (a_k + b_k + c_k) / 3\n",
    "m_aver = (a_m + b_m + c_m) / 3\n",
    "e_aver = (a_e + b_e + c_e) / 3\n",
    "print(k_aver, m_aver, e_aver)\n",
    "\n",
    "# 가장 평균이 높은 과목 이름과 점수\n",
    "print('korean', max(k_aver, m_aver, e_aver))"
   ]
  },
  {
   "cell_type": "code",
   "execution_count": 23,
   "metadata": {},
   "outputs": [
    {
     "name": "stdout",
     "output_type": "stream",
     "text": [
      "2.6\n",
      "2\n",
      "3\n",
      "13\n"
     ]
    }
   ],
   "source": [
    "# 5-1\n",
    "a = 13\n",
    "b = 5\n",
    "print(a/b)\n",
    "print(a//b)\n",
    "print(a%b)\n",
    "\n",
    "# 5-2\n",
    "a = b * (a//b) + (a%b)\n",
    "print(a)"
   ]
  },
  {
   "cell_type": "code",
   "execution_count": 24,
   "metadata": {},
   "outputs": [
    {
     "name": "stdout",
     "output_type": "stream",
     "text": [
      "23920000\n"
     ]
    }
   ],
   "source": [
    "# 6\n",
    "Daum = int(89000)\n",
    "Naver = int(751000)\n",
    "stock = Daum * 100 + Naver * 20\n",
    "print(stock)"
   ]
  },
  {
   "cell_type": "code",
   "execution_count": 25,
   "metadata": {},
   "outputs": [
    {
     "name": "stdout",
     "output_type": "stream",
     "text": [
      "1947000.0\n"
     ]
    }
   ],
   "source": [
    "# 7\n",
    "Daum_down = Daum*0.95\n",
    "Naver_down = Naver*0.9\n",
    "stock_down = Daum_down*100 + Naver_down*20\n",
    "loss = stock - stock_down\n",
    "print(loss)"
   ]
  },
  {
   "cell_type": "code",
   "execution_count": 26,
   "metadata": {},
   "outputs": [
    {
     "name": "stdout",
     "output_type": "stream",
     "text": [
      "we have 24 tomatos\n",
      "apple + tomato is 37\n",
      "my name is Bill. nice to meet you\n"
     ]
    }
   ],
   "source": [
    "# 8\n",
    "apple = 13\n",
    "tomato = 24\n",
    "name1 = \"Bill\"\n",
    "total_fruits = apple + tomato\n",
    "\n",
    "print('we have {} tomatos'.format(tomato))\n",
    "print('apple + tomato is {}'.format(total_fruits))\n",
    "print('my name is %s. nice to meet you' % name1)"
   ]
  },
  {
   "cell_type": "code",
   "execution_count": 27,
   "metadata": {},
   "outputs": [
    {
     "name": "stdout",
     "output_type": "stream",
     "text": [
      "10.0\n"
     ]
    }
   ],
   "source": [
    "# 9\n",
    "F = int(50)\n",
    "C = (F-32)/1.8\n",
    "print(C)"
   ]
  },
  {
   "cell_type": "code",
   "execution_count": 28,
   "metadata": {},
   "outputs": [
    {
     "name": "stdout",
     "output_type": "stream",
     "text": [
      "140707500209024 140707500209024\n",
      "2659512601104 2659512600912\n"
     ]
    }
   ],
   "source": [
    "# 10\n",
    "x1 = 100\n",
    "y1 = 100\n",
    "print(id(x1), id(y1))\n",
    "\n",
    "x2 = 300\n",
    "y2 = 300\n",
    "print(id(x2), id(y2))"
   ]
  },
  {
   "cell_type": "markdown",
   "metadata": {},
   "source": [
    "각 변수마다 할당된 메모리가 다르기 때문에 메모리에 할당된 객체의 주소 또한 다르지만 효율성을 위해 256 이하의 숫자는 같은 주소에 저장된다"
   ]
  },
  {
   "cell_type": "code",
   "execution_count": 35,
   "metadata": {},
   "outputs": [
    {
     "name": "stdout",
     "output_type": "stream",
     "text": [
      "산업경영공학과\n",
      "12345678\n",
      "홍길동\n",
      "학과를 입력하세요 : 산업경영공학과\n",
      "학번을 입력하세요 : 12345678\n",
      "이름을 입력하세요 : 홍길동\n",
      "학과 : 산업경영공학과 학번 : 12345678 이름 : 홍길동\n"
     ]
    }
   ],
   "source": [
    "# 11\n",
    "input_1 = input()\n",
    "input_2 = input()\n",
    "input_3 = input()\n",
    "\n",
    "print('학과를 입력하세요 :', input_1)\n",
    "print('학번을 입력하세요 :', input_2)\n",
    "print('이름을 입력하세요 :', input_3)\n",
    "print('학과 :', input_1, '학번 :', input_2, '이름 :', input_3)"
   ]
  },
  {
   "cell_type": "code",
   "execution_count": 40,
   "metadata": {},
   "outputs": [
    {
     "name": "stdout",
     "output_type": "stream",
     "text": [
      "Name : Tom, Age : 23, Department : finance\n"
     ]
    }
   ],
   "source": [
    "# 12\n",
    "name = \"Tom\"\n",
    "age = 23\n",
    "department = \"finance\"\n",
    "\n",
    "print('Name : %s, Age : %d, Department : %s' % (name, age, department))"
   ]
  },
  {
   "cell_type": "code",
   "execution_count": 41,
   "metadata": {},
   "outputs": [
    {
     "name": "stdout",
     "output_type": "stream",
     "text": [
      "찬성의 득표수는 245684 표이고, 반대의 득표수는 152444 표이다. 그리고 총 찬성득표비율은 61.70980%이다.\n"
     ]
    }
   ],
   "source": [
    "# 13\n",
    "agree = int(245684)\n",
    "oppose = int(152444)\n",
    "ratio = agree / (agree + oppose)*100\n",
    "\n",
    "print(\"\"\"찬성의 득표수는 {1:6d} 표이고, 반대의 득표수는 {2:6d} 표이다. 그리고 총 찬성득표비율은 {0:.5f}%이다.\"\"\".format(ratio, agree, oppose))"
   ]
  },
  {
   "cell_type": "code",
   "execution_count": 45,
   "metadata": {},
   "outputs": [
    {
     "name": "stdout",
     "output_type": "stream",
     "text": [
      "4 , 9\n",
      "10\n"
     ]
    }
   ],
   "source": [
    "# 14\n",
    "num_list = [1,2,3,4,5,6,7,8,9,10]\n",
    "print(num_list[3], ',', num_list[8])\n",
    "print(len(num_list))"
   ]
  },
  {
   "cell_type": "code",
   "execution_count": 52,
   "metadata": {},
   "outputs": [
    {
     "data": {
      "text/plain": [
       "[10, 8, 6, 4]"
      ]
     },
     "execution_count": 52,
     "metadata": {},
     "output_type": "execute_result"
    }
   ],
   "source": [
    "# 15\n",
    "new_list = num_list[::-1]\n",
    "new_list[0:8:2]"
   ]
  },
  {
   "cell_type": "code",
   "execution_count": 60,
   "metadata": {},
   "outputs": [
    {
     "name": "stdout",
     "output_type": "stream",
     "text": [
      "['지호', '도윤', '하준', '서준', '준우', '민준', '하윤', '서윤', '수아']\n"
     ]
    }
   ],
   "source": [
    "# 16\n",
    "name1 = ['도윤', '하준', '서준', '시우', '민준']\n",
    "name2 = ['하윤', '서윤', '서연', '하은', '지유']\n",
    "\n",
    "name1.insert(0,'지호')\n",
    "name1.remove('시우')\n",
    "name1.insert(4, '준우')\n",
    "\n",
    "del name2[2:5]\n",
    "name2.append('수아')\n",
    "\n",
    "total_name = name1 + name2\n",
    "print(total_name)"
   ]
  },
  {
   "cell_type": "code",
   "execution_count": 65,
   "metadata": {},
   "outputs": [
    {
     "name": "stdout",
     "output_type": "stream",
     "text": [
      "Lydia의 Math 점수 : 55\n",
      "Lucy의 English 점수 : 78\n"
     ]
    }
   ],
   "source": [
    "# 17\n",
    "Brooke_score = ['67', '50', '94']\n",
    "Lydia_score = ['88', '48', '55']\n",
    "Stella_score = ['69', '66', '76']\n",
    "Lucy_score = ['95', '78', '68']\n",
    "total_score = [Brooke_score, Lydia_score, Stella_score, Lucy_score]\n",
    "\n",
    "print('Lydia의 Math 점수 :', total_score[1][2])\n",
    "print('Lucy의 English 점수 :', total_score[3][1])"
   ]
  },
  {
   "cell_type": "code",
   "execution_count": 5,
   "metadata": {},
   "outputs": [
    {
     "name": "stdout",
     "output_type": "stream",
     "text": [
      "1부터 10까지의 숫자를 입력해주세요 :0\n",
      "1부터 10까지의 숫자를 입력해주세요 :11\n",
      "1부터 10까지의 숫자를 입력해주세요 :4\n",
      "이 수는 짝수입니다.\n",
      "이 수는 5보다 작은 수입니다.\n"
     ]
    }
   ],
   "source": [
    "# 18\n",
    "number = int(input('1부터 10까지의 숫자를 입력해주세요 :'))\n",
    "\n",
    "while number < 1 or number >10:\n",
    "    number = int(input('1부터 10까지의 숫자를 입력해주세요 :'))\n",
    "    \n",
    "if number % 2 == 0:\n",
    "    print('이 수는 짝수입니다.')\n",
    "    if number < 5:\n",
    "        print('이 수는 5보다 작은 수입니다.')\n",
    "    elif number == 5:\n",
    "        print('이 수는 5입니다.')\n",
    "    else:\n",
    "        print('이 수는 5보다 큰 수입니다.')\n",
    "else:\n",
    "    print('이 수는 홀수입니다.')\n",
    "    if number < 5:\n",
    "        print('이 수는 5보다 작은 수입니다.')\n",
    "    elif number == 5:\n",
    "        print('이 수는 5입니다.')\n",
    "    else:\n",
    "        print('이 수는 5보다 큰 수입니다.')"
   ]
  },
  {
   "cell_type": "code",
   "execution_count": 7,
   "metadata": {},
   "outputs": [
    {
     "name": "stdout",
     "output_type": "stream",
     "text": [
      "1부터 9까지의 숫자를 입력하세요 :11\n",
      "1부터 9까지의 숫자를 다시 입력하세요 :0\n",
      "1부터 9까지의 숫자를 다시 입력하세요 :5\n",
      "5 * 1 = 5\n",
      "5 * 2 = 10\n",
      "5 * 3 = 15\n",
      "5 * 4 = 20\n",
      "5 * 5 = 25\n",
      "5 * 6 = 30\n",
      "5 * 7 = 35\n",
      "5 * 8 = 40\n",
      "5 * 9 = 45\n"
     ]
    }
   ],
   "source": [
    "# 19\n",
    "number = int(input('1부터 9까지의 숫자를 입력하세요 :'))\n",
    "\n",
    "while number < 1 or number >= 10:\n",
    "    number = int(input('1부터 9까지의 숫자를 다시 입력하세요 :'))\n",
    "\n",
    "for i in range(1,10):\n",
    "    num = number * i\n",
    "    print('{} * {} = {}'.format(number, i, num))"
   ]
  },
  {
   "cell_type": "code",
   "execution_count": 20,
   "metadata": {},
   "outputs": [
    {
     "name": "stdout",
     "output_type": "stream",
     "text": [
      "몇 개를 출력 할까요 :10\n",
      "[1, 1, 2, 3, 5, 8, 13, 21, 34, 55]\n"
     ]
    }
   ],
   "source": [
    "# 20\n",
    "num = int(input(\"몇 개를 출력 할까요 :\"))\n",
    "list_a = [1,1]\n",
    "\n",
    "for i in range(2,num):\n",
    "    list_a.append(list_a[i-1] + list_a[i-2])\n",
    "print(list_a)"
   ]
  }
 ],
 "metadata": {
  "kernelspec": {
   "display_name": "Python 3",
   "language": "python",
   "name": "python3"
  }
 },
 "nbformat": 4,
 "nbformat_minor": 4
}
