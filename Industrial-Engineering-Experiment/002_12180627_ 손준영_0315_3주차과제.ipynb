{
 "cells": [
  {
   "cell_type": "code",
   "execution_count": 22,
   "metadata": {},
   "outputs": [
    {
     "name": "stdout",
     "output_type": "stream",
     "text": [
      "12.56\n",
      "12.56\n",
      "None\n"
     ]
    }
   ],
   "source": [
    "# 1번 문제\n",
    "def circle(radius): # parameter o, return x\n",
    "    print((radius ** 2) * 3.14)\n",
    "\n",
    "radius = 2\n",
    "circle(radius)\n",
    "print(circle(radius)) # print()는 실행되지만 return 값은 없음"
   ]
  },
  {
   "cell_type": "code",
   "execution_count": 24,
   "metadata": {},
   "outputs": [
    {
     "data": {
      "text/plain": [
       "12.56"
      ]
     },
     "execution_count": 24,
     "metadata": {},
     "output_type": "execute_result"
    }
   ],
   "source": [
    "def circle(): # parameter x, return o\n",
    "    radius = 2\n",
    "    return (radius ** 2) * 3.14\n",
    "\n",
    "circle()"
   ]
  },
  {
   "cell_type": "code",
   "execution_count": 25,
   "metadata": {},
   "outputs": [
    {
     "name": "stdout",
     "output_type": "stream",
     "text": [
      "12.56\n"
     ]
    }
   ],
   "source": [
    "print(circle())"
   ]
  },
  {
   "cell_type": "code",
   "execution_count": 15,
   "metadata": {},
   "outputs": [
    {
     "name": "stdout",
     "output_type": "stream",
     "text": [
      "주문받은 내용은 음식 : pizza, 음료 : water 입니다.\n",
      "주문받은 내용은 음식 : hamburger, 음료 : coke 입니다.\n"
     ]
    }
   ],
   "source": [
    "# 2번 문제\n",
    "def order(food, drink=\"water\"):\n",
    "    return print(\"주문받은 내용은 음식 : {0}, 음료 : {1} 입니다.\".format(food, drink))\n",
    "\n",
    "order(\"pizza\")\n",
    "order(\"hamburger\",\"coke\")"
   ]
  },
  {
   "cell_type": "code",
   "execution_count": 33,
   "metadata": {},
   "outputs": [
    {
     "name": "stdout",
     "output_type": "stream",
     "text": [
      "몸무게(kg)을 입력하세요 :80\n",
      "키(cm)를 입력하세요 :100\n",
      "고도 비만\n"
     ]
    }
   ],
   "source": [
    "# 3번 문제\n",
    "weight = float(input(\"몸무게(kg)을 입력하세요 :\"))\n",
    "height = float(input(\"키(cm)를 입력하세요 :\"))\n",
    "\n",
    "def body(weight, height):\n",
    "    BMI = (weight/((height*0.01)**2))\n",
    "    \n",
    "    if BMI < 18.5:\n",
    "        print(\"마른 체형\")\n",
    "    elif 18.5 <= BMI < 25.0:\n",
    "        print(\"표준\")\n",
    "    elif 25.0 < BMI < 30.0:\n",
    "        print(\"비만\")\n",
    "    else:\n",
    "        print(\"고도 비만\")\n",
    "\n",
    "body(weight, height)"
   ]
  },
  {
   "cell_type": "code",
   "execution_count": 50,
   "metadata": {},
   "outputs": [
    {
     "name": "stdout",
     "output_type": "stream",
     "text": [
      "1~9 숫자를 입력하세요 :-1\n",
      "1~9 숫자를 다시 입력하세요 :100\n",
      "1~9 숫자를 다시 입력하세요 :7\n",
      "7 * 1 = 7\n",
      "7 * 2 = 14\n",
      "7 * 3 = 21\n",
      "7 * 4 = 28\n",
      "7 * 5 = 35\n",
      "7 * 6 = 42\n",
      "7 * 7 = 49\n",
      "7 * 8 = 56\n",
      "7 * 9 = 63\n"
     ]
    }
   ],
   "source": [
    "# 4번 문제\n",
    "def times_table(num):\n",
    "    num = int(input(\"1~9 숫자를 입력하세요 :\"))\n",
    "    while num<1 or num>= 10:\n",
    "        num = (int(input(\"1~9 숫자를 다시 입력하세요 :\")))   \n",
    "    \n",
    "    for i in range(1,10):\n",
    "        number = num * i\n",
    "        print('{} * {} = {}'.format(num, i, number))\n",
    "\n",
    "times_table(num)"
   ]
  },
  {
   "cell_type": "code",
   "execution_count": 11,
   "metadata": {},
   "outputs": [
    {
     "name": "stdout",
     "output_type": "stream",
     "text": [
      "10\n",
      "5\n"
     ]
    }
   ],
   "source": [
    "# 5번 문제\n",
    "def max3(x,y,z):\n",
    "    return max(x,y,z)\n",
    "\n",
    "print(max(3,7,10))\n",
    "print(max(5,5,2))"
   ]
  },
  {
   "cell_type": "code",
   "execution_count": 53,
   "metadata": {},
   "outputs": [
    {
     "data": {
      "text/plain": [
       "24"
      ]
     },
     "execution_count": 53,
     "metadata": {},
     "output_type": "execute_result"
    }
   ],
   "source": [
    "# 6번 문제\n",
    "def f(a,b,c,d,*args):\n",
    "    return(a*b*c*d)\n",
    "\n",
    "f(1,2,3,4,5,6,7,8,9,10)"
   ]
  },
  {
   "cell_type": "code",
   "execution_count": 21,
   "metadata": {},
   "outputs": [
    {
     "data": {
      "text/plain": [
       "3628800"
      ]
     },
     "execution_count": 21,
     "metadata": {},
     "output_type": "execute_result"
    }
   ],
   "source": [
    "# 7번 문제\n",
    "def factorial(n):\n",
    "    if n == 1:\n",
    "        return 1\n",
    "    else:\n",
    "        return n * factorial(n-1)\n",
    "\n",
    "def max_factorial(*args):\n",
    "    n = max(args)\n",
    "    return factorial(n)\n",
    "\n",
    "max_factorial(1,10,5,3,8)"
   ]
  },
  {
   "cell_type": "code",
   "execution_count": 13,
   "metadata": {},
   "outputs": [
    {
     "name": "stdout",
     "output_type": "stream",
     "text": [
      "parameter is not enough\n"
     ]
    }
   ],
   "source": [
    "# 8번 문제\n",
    "def fiveparameter(*args):\n",
    "    if len(args)>=5:\n",
    "        print(len(args))\n",
    "    else:\n",
    "        print(\"parameter is not enough\")\n",
    "\n",
    "fiveparameter(1,2,3,4)"
   ]
  },
  {
   "cell_type": "code",
   "execution_count": 14,
   "metadata": {},
   "outputs": [
    {
     "name": "stdout",
     "output_type": "stream",
     "text": [
      "6\n"
     ]
    }
   ],
   "source": [
    "fiveparameter(10,9,8,7,6,5)"
   ]
  },
  {
   "cell_type": "code",
   "execution_count": 15,
   "metadata": {},
   "outputs": [
    {
     "name": "stdout",
     "output_type": "stream",
     "text": [
      "[1, 2, 5, 6, 6, 8]\n"
     ]
    }
   ],
   "source": [
    "# 9번 문제\n",
    "a = [5,6,8,1,2,6]\n",
    "\n",
    "def sorting(list):\n",
    "    list.sort()\n",
    "    print(list)\n",
    "\n",
    "sorting(a)"
   ]
  },
  {
   "cell_type": "code",
   "execution_count": 17,
   "metadata": {},
   "outputs": [
    {
     "name": "stdout",
     "output_type": "stream",
     "text": [
      "1\n",
      "0\n",
      "1\n",
      "1\n"
     ]
    }
   ],
   "source": [
    "# 10번 문제\n",
    "def print_binary(n):\n",
    "    if n < 2:\n",
    "        print(n)\n",
    "    else:\n",
    "        print_binary(n//2)\n",
    "        print(n%2)\n",
    "\n",
    "print_binary(11)"
   ]
  }
 ],
 "metadata": {
  "kernelspec": {
   "display_name": "Python 3",
   "language": "python",
   "name": "python3"
  },
  "language_info": {
   "codemirror_mode": {
    "name": "ipython",
    "version": 3
   },
   "file_extension": ".py",
   "mimetype": "text/x-python",
   "name": "python",
   "nbconvert_exporter": "python",
   "pygments_lexer": "ipython3",
   "version": "3.8.5"
  }
 },
 "nbformat": 4,
 "nbformat_minor": 4
}
