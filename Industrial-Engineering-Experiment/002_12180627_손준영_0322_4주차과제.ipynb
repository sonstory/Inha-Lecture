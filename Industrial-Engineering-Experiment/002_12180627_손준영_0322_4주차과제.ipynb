{
  "nbformat": 4,
  "nbformat_minor": 0,
  "metadata": {
    "colab": {
      "name": "002_12180627_손준영_0322_4주차과제.ipynb",
      "provenance": [],
      "collapsed_sections": []
    },
    "kernelspec": {
      "name": "python3",
      "display_name": "Python 3"
    },
    "language_info": {
      "name": "python"
    }
  },
  "cells": [
    {
      "cell_type": "code",
      "source": [
        "# 실습 문제 1\n",
        "a1 = \"this is string type\"\n",
        "a2 = \"1. 2. 3. 4. 5. 6. 7.\"\n",
        "a3 = \"one = 1, two = 2, three = 3\"\n",
        "\n",
        "print(a1.isdigit())\n",
        "print(a2.isdigit())\n",
        "print(a3.isdigit())\n",
        "\n",
        "print(a1.upper())\n",
        "print(a2.replace('.',''))\n",
        "print(a3.replace('=','-'))"
      ],
      "metadata": {
        "colab": {
          "base_uri": "https://localhost:8080/"
        },
        "id": "6BNqozC6hwn4",
        "outputId": "28d1d90e-9638-4c6f-9612-ed919247b5b2"
      },
      "execution_count": 3,
      "outputs": [
        {
          "output_type": "stream",
          "name": "stdout",
          "text": [
            "False\n",
            "False\n",
            "False\n",
            "THIS IS STRING TYPE\n",
            "1 2 3 4 5 6 7\n",
            "one - 1, two - 2, three - 3\n"
          ]
        }
      ]
    },
    {
      "cell_type": "code",
      "source": [
        "# 실습 문제 2\n",
        "a = 'Hello My nick name is rednose'\n",
        "a[22:29] = 'blacknose' # error가 발생해야 정상"
      ],
      "metadata": {
        "colab": {
          "base_uri": "https://localhost:8080/",
          "height": 209
        },
        "id": "sn_AVDFkiW9a",
        "outputId": "c2a1ae0d-7e86-45f3-98dd-9db61c1bbf0a"
      },
      "execution_count": 59,
      "outputs": [
        {
          "output_type": "error",
          "ename": "TypeError",
          "evalue": "ignored",
          "traceback": [
            "\u001b[0;31m---------------------------------------------------------------------------\u001b[0m",
            "\u001b[0;31mTypeError\u001b[0m                                 Traceback (most recent call last)",
            "\u001b[0;32m<ipython-input-59-6b7921638d3d>\u001b[0m in \u001b[0;36m<module>\u001b[0;34m()\u001b[0m\n\u001b[1;32m      1\u001b[0m \u001b[0;31m# 실습 문제 2\u001b[0m\u001b[0;34m\u001b[0m\u001b[0;34m\u001b[0m\u001b[0;34m\u001b[0m\u001b[0m\n\u001b[1;32m      2\u001b[0m \u001b[0ma\u001b[0m \u001b[0;34m=\u001b[0m \u001b[0;34m'Hello My nick name is rednose'\u001b[0m\u001b[0;34m\u001b[0m\u001b[0;34m\u001b[0m\u001b[0m\n\u001b[0;32m----> 3\u001b[0;31m \u001b[0ma\u001b[0m\u001b[0;34m[\u001b[0m\u001b[0;36m22\u001b[0m\u001b[0;34m:\u001b[0m\u001b[0;36m29\u001b[0m\u001b[0;34m]\u001b[0m \u001b[0;34m=\u001b[0m \u001b[0;34m'blacknose'\u001b[0m \u001b[0;31m# error가 발생해야 정상\u001b[0m\u001b[0;34m\u001b[0m\u001b[0;34m\u001b[0m\u001b[0m\n\u001b[0m",
            "\u001b[0;31mTypeError\u001b[0m: 'str' object does not support item assignment"
          ]
        }
      ]
    },
    {
      "cell_type": "markdown",
      "source": [
        "문자열은 고정된 값을 나타내기 때문에 인덱싱을 사용하여 변경하는 것이 아닌 replace()와 같은 문자열 함수를 이용하여 변경해야 한다. "
      ],
      "metadata": {
        "id": "UaW2JRoFlAB1"
      }
    },
    {
      "cell_type": "code",
      "source": [
        "a = 'Hello My nick nmae is rednose'\n",
        "a.replace('rednose', 'blacknose')"
      ],
      "metadata": {
        "colab": {
          "base_uri": "https://localhost:8080/",
          "height": 35
        },
        "id": "SR0sZFu0k_Ie",
        "outputId": "f76b113e-5bdb-4b6b-da12-944258f3eb57"
      },
      "execution_count": 5,
      "outputs": [
        {
          "output_type": "execute_result",
          "data": {
            "text/plain": [
              "'Hello My nick nmae is blacknose'"
            ],
            "application/vnd.google.colaboratory.intrinsic+json": {
              "type": "string"
            }
          },
          "metadata": {},
          "execution_count": 5
        }
      ]
    },
    {
      "cell_type": "code",
      "source": [
        "# 실습 문제 3\n",
        "han = \"가 나 다 라 마 바 사\"\n",
        "han_list = han.split(' ')\n",
        "\n",
        "for i in range(len(han_list)):\n",
        "    if i < 6:\n",
        "        print(han_list[i]+'-', end='')\n",
        "    else:\n",
        "        print(han_list[i])"
      ],
      "metadata": {
        "colab": {
          "base_uri": "https://localhost:8080/"
        },
        "id": "HoFDzpKiliBZ",
        "outputId": "cd96a24f-3ef8-4080-c3ce-7d400f60daed"
      },
      "execution_count": 6,
      "outputs": [
        {
          "output_type": "stream",
          "name": "stdout",
          "text": [
            "가-나-다-라-마-바-사\n"
          ]
        }
      ]
    },
    {
      "cell_type": "code",
      "source": [
        "# 실습 문제 4\n",
        "text = \"I'm dancing in the dark with you between my arms\"\n",
        "text_list = text.split(' ')\n",
        "\n",
        "for i in range(len(text_list)-1,-1,-1):\n",
        "    print(text_list[i], end=' ')"
      ],
      "metadata": {
        "colab": {
          "base_uri": "https://localhost:8080/"
        },
        "id": "7INSV3cSmHGb",
        "outputId": "39adcb42-b676-49e0-ab11-5e1ae914247e"
      },
      "execution_count": 7,
      "outputs": [
        {
          "output_type": "stream",
          "name": "stdout",
          "text": [
            "arms my between you with dark the in dancing I'm "
          ]
        }
      ]
    },
    {
      "cell_type": "code",
      "execution_count": 2,
      "metadata": {
        "id": "WniQrg-Ffn9v",
        "colab": {
          "base_uri": "https://localhost:8080/"
        },
        "outputId": "d48cbf79-5543-4a4f-93ba-faec0982269a"
      },
      "outputs": [
        {
          "output_type": "stream",
          "name": "stdout",
          "text": [
            "Yesterday\n",
            "All my troubles seemed so far away\n",
            "Now it looks as though they're here to stay\n",
            "Oh, I believe in yesterday\n",
            "Suddenly\n",
            "I'm not half the man I used to be\n",
            "There's a shadow hanging over me\n",
            "Oh, yesterday came suddenly\n",
            "Why she had to go\n",
            "I don't know, she wouldn't say\n",
            "I said something wrong\n",
            "Now I long for yesterday\n",
            "Yesterday\n",
            "Love was such an easy game to play\n",
            "Now I need a place to hide away\n",
            "Oh, I believe in yesterday\n",
            "Why she had to go\n",
            "I don't know, she wouldn't say\n",
            "I said something wrong\n",
            "Now I long for yesterday\n",
            "Yesterday\n",
            "Love was such an easy game to play\n",
            "Now I need a place to hide away\n",
            "Oh, I believe in yesterday\n",
            "Mm, mm, mm, mm, mm, mm, mm\n",
            "\n"
          ]
        }
      ],
      "source": [
        "f = open('산업공학실험 4주차 yesterday.txt', 'r')\n",
        "\n",
        "yesterday_lyric = ''\n",
        "while 1:\n",
        "    line = f.readline()\n",
        "    if not line:\n",
        "        break\n",
        "    yesterday_lyric = yesterday_lyric + line.strip() + '\\n'\n",
        "f.close()\n",
        "\n",
        "print(yesterday_lyric)"
      ]
    },
    {
      "cell_type": "code",
      "source": [
        "# 실습 문제 5\n",
        "print('Yesterday가 나온 횟수 :', yesterday_lyric.count('Yesterday'))\n",
        "print('yesterday가 나온 횟수 :', yesterday_lyric.count('yesterday'))\n",
        "print('Yesterday와 yesterday가 나온 횟수 :', yesterday_lyric.count('Yesterday') + yesterday_lyric.count('yesterday'))"
      ],
      "metadata": {
        "colab": {
          "base_uri": "https://localhost:8080/"
        },
        "id": "A7Lbyi38mCjh",
        "outputId": "a0eb2ccb-2a81-44fc-e916-8d3722bb8dae"
      },
      "execution_count": 14,
      "outputs": [
        {
          "output_type": "stream",
          "name": "stdout",
          "text": [
            "Yesterday가 나온 횟수 : 3\n",
            "yesterday가 나온 횟수 : 6\n",
            "Yesterday와 yesterday가 나온 횟수 : 9\n"
          ]
        }
      ]
    },
    {
      "cell_type": "code",
      "source": [
        "# 실습 문제 6\n",
        "example = \"+++++---this is example/////**********\"\n",
        "\n",
        "def change(txt):\n",
        "    TXT = txt.strip(\"+-/*\")\n",
        "    return TXT.upper()\n",
        "\n",
        "change(example)"
      ],
      "metadata": {
        "colab": {
          "base_uri": "https://localhost:8080/",
          "height": 35
        },
        "id": "2cHS0A1om3iV",
        "outputId": "9734afed-0419-40ec-ce11-9cf2f9ed6b60"
      },
      "execution_count": 17,
      "outputs": [
        {
          "output_type": "execute_result",
          "data": {
            "text/plain": [
              "'THIS IS EXAMPLE'"
            ],
            "application/vnd.google.colaboratory.intrinsic+json": {
              "type": "string"
            }
          },
          "metadata": {},
          "execution_count": 17
        }
      ]
    },
    {
      "cell_type": "code",
      "source": [
        "# 실습 문제 7\n",
        "num = input(\"숫자를 10개 입력해주세요\")\n",
        "\n",
        "while len(num) != 10 or num.isdigit() == False:\n",
        "    num = input(\"숫자를 10개 입력해주세요\")\n",
        "else:\n",
        "    print(num[:5],'-',num[5:])"
      ],
      "metadata": {
        "colab": {
          "base_uri": "https://localhost:8080/"
        },
        "id": "5lkAVk8Fn4Nn",
        "outputId": "3e286418-4cb4-4a81-ed74-5e62c15b75af"
      },
      "execution_count": 52,
      "outputs": [
        {
          "output_type": "stream",
          "name": "stdout",
          "text": [
            "숫자를 10개 입력해주세요123\n",
            "숫자를 10개 입력해주세요abcdefghij\n",
            "숫자를 10개 입력해주세요12345abcde\n",
            "숫자를 10개 입력해주세요1234567890\n",
            "12345 - 67890\n"
          ]
        }
      ]
    },
    {
      "cell_type": "code",
      "source": [
        "# 실습 문제 8\n",
        "abc = \" Hello guys! I study Python.  \"\n",
        "print(\"빈칸의 개수는 %d 입니다.\" % abc.count(' '))\n",
        "print(\"알파벳 s가 문자열에서 등장하는 횟수는 %d 회 입니다.\" % abc.count('s'))"
      ],
      "metadata": {
        "colab": {
          "base_uri": "https://localhost:8080/"
        },
        "id": "eB3VdUXwq-o1",
        "outputId": "b3aeeea6-760e-4cae-ff78-9a0162310450"
      },
      "execution_count": 20,
      "outputs": [
        {
          "output_type": "stream",
          "name": "stdout",
          "text": [
            "빈칸의 개수는 7 입니다.\n",
            "알파벳 s가 문자열에서 등장하는 횟수는 2 회 입니다.\n"
          ]
        }
      ]
    },
    {
      "cell_type": "code",
      "source": [
        "# 실습 문제 9\n",
        "print(\"c:\\dir1\\name\")\n",
        "print(r\"c:\\dir1\\name\")"
      ],
      "metadata": {
        "colab": {
          "base_uri": "https://localhost:8080/"
        },
        "id": "-2KtC5nnsjHQ",
        "outputId": "de121d31-4d08-4f0e-fd90-69452e2331c6"
      },
      "execution_count": 21,
      "outputs": [
        {
          "output_type": "stream",
          "name": "stdout",
          "text": [
            "c:\\dir1\n",
            "ame\n",
            "c:\\dir1\\name\n"
          ]
        }
      ]
    },
    {
      "cell_type": "markdown",
      "source": [
        "r로 선언된 문자열은 raw string으로 이를 사용하면 escape 문자인 \\n이 동작하지 않고 그대로 출력된다."
      ],
      "metadata": {
        "id": "taLAC1K0s7Ou"
      }
    },
    {
      "cell_type": "code",
      "source": [
        "# 실습 문제 10\n",
        "def txtchange(txt):\n",
        "    sentences = txt.split('.')\n",
        "    words = txt.replace(' ','')\n",
        "    \n",
        "    print(\"문장의 수 :\", len(sentences)-1)\n",
        "    print(\"글자의 수 :\", len(words))\n",
        "\n",
        "text = \"i'm only one call away. i'll be there to save the day. superman got nothing on me.\"\n",
        "print(\"입력된 문자열 :\", text)\n",
        "txtchange(text)"
      ],
      "metadata": {
        "colab": {
          "base_uri": "https://localhost:8080/"
        },
        "id": "0ZYApiROs1F3",
        "outputId": "94c9506b-db89-4181-9530-e5ac6752451e"
      },
      "execution_count": 58,
      "outputs": [
        {
          "output_type": "stream",
          "name": "stdout",
          "text": [
            "입력된 문자열 : i'm only one call away. i'll be there to save the day. superman got nothing on me.\n",
            "문장의 수 : 3\n",
            "글자의 수 : 66\n"
          ]
        }
      ]
    }
  ]
}