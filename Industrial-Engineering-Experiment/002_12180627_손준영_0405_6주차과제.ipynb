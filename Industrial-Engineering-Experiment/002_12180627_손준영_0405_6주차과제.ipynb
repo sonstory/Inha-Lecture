{
 "cells": [
  {
   "cell_type": "markdown",
   "metadata": {},
   "source": [
    "# 1번 문제"
   ]
  },
  {
   "cell_type": "code",
   "execution_count": 7,
   "metadata": {},
   "outputs": [],
   "source": [
    "class FinalTest(object):\n",
    "    def __init__(self, math, kor, eng):\n",
    "        self.math = math\n",
    "        self.kor = kor\n",
    "        self.eng = eng\n",
    "    \n",
    "    def math_score(self):\n",
    "        return self.math\n",
    "    \n",
    "    def kor_score(self):\n",
    "        return self.kor\n",
    "    \n",
    "    def eng_score(self):\n",
    "        return self.eng"
   ]
  },
  {
   "cell_type": "code",
   "execution_count": 8,
   "metadata": {},
   "outputs": [
    {
     "name": "stdout",
     "output_type": "stream",
     "text": [
      "90\n",
      "50\n",
      "70\n"
     ]
    }
   ],
   "source": [
    "my_score = FinalTest(90,50,70)\n",
    "print(my_score.math_score())\n",
    "print(my_score.kor_score())\n",
    "print(my_score.eng_score())"
   ]
  },
  {
   "cell_type": "markdown",
   "metadata": {},
   "source": [
    "# 2번 문제"
   ]
  },
  {
   "cell_type": "code",
   "execution_count": 13,
   "metadata": {},
   "outputs": [],
   "source": [
    "class FinalTest(object):\n",
    "    def __init__(self, math, kor, eng):\n",
    "        self.math = math\n",
    "        self.kor = kor\n",
    "        self.eng = eng\n",
    "        self.avg_score = (math + kor + eng) / 3\n",
    "    \n",
    "    def math_score(self):\n",
    "        return self.math\n",
    "    \n",
    "    def kor_score(self):\n",
    "        return self.kor\n",
    "    \n",
    "    def eng_score(self):\n",
    "        return self.eng\n",
    "    \n",
    "    def avg_score(self):\n",
    "        return self.avg_score"
   ]
  },
  {
   "cell_type": "code",
   "execution_count": 15,
   "metadata": {},
   "outputs": [],
   "source": [
    "John = FinalTest(100, 90, 80)\n",
    "Jenny = FinalTest(90, 100, 100)"
   ]
  },
  {
   "cell_type": "code",
   "execution_count": 16,
   "metadata": {},
   "outputs": [
    {
     "name": "stdout",
     "output_type": "stream",
     "text": [
      "90.0 96.66666666666667\n"
     ]
    }
   ],
   "source": [
    "John_avg = John.avg_score\n",
    "Jenny_avg = Jenny.avg_score\n",
    "print(John_avg, Jenny_avg)"
   ]
  },
  {
   "cell_type": "markdown",
   "metadata": {},
   "source": [
    "# 3번 문제"
   ]
  },
  {
   "cell_type": "code",
   "execution_count": 17,
   "metadata": {},
   "outputs": [],
   "source": [
    "class Car(object):\n",
    "    def __init__(self, max_speed, speed, speed_rate):\n",
    "        self.max_speed = max_speed\n",
    "        self.speed = speed\n",
    "        self.speed_rate = speed_rate\n",
    "    \n",
    "    def speed_up(self):\n",
    "        if 0 <= self.speed + self.speed_rate <= self.max_speed:\n",
    "            self.speed = self.speed + self.speed_rate\n",
    "        else:\n",
    "            print(f'speed는 {self.max_speed}을 넘을 수 없습니다')\n",
    "    \n",
    "    def speed_down(self):\n",
    "        if 0<= self.speed - self.speed_rate <= self.max_spped:\n",
    "            self.speed = self.speed - self.speed_rate\n",
    "        else:\n",
    "            print('speed는 0보다 작을 수 없습니다')"
   ]
  },
  {
   "cell_type": "code",
   "execution_count": 18,
   "metadata": {},
   "outputs": [
    {
     "name": "stdout",
     "output_type": "stream",
     "text": [
      "speed는 0보다 작을 수 없습니다\n"
     ]
    }
   ],
   "source": [
    "car = Car(160,0,20)\n",
    "car.speed_down()"
   ]
  },
  {
   "cell_type": "code",
   "execution_count": 36,
   "metadata": {},
   "outputs": [
    {
     "name": "stdout",
     "output_type": "stream",
     "text": [
      "speed는 160을 넘을 수 없습니다\n"
     ]
    }
   ],
   "source": [
    "for i in range(9):\n",
    "    car.speed_up()"
   ]
  },
  {
   "cell_type": "code",
   "execution_count": 37,
   "metadata": {
    "scrolled": true
   },
   "outputs": [
    {
     "data": {
      "text/plain": [
       "160"
      ]
     },
     "execution_count": 37,
     "metadata": {},
     "output_type": "execute_result"
    }
   ],
   "source": [
    "car.speed"
   ]
  },
  {
   "cell_type": "markdown",
   "metadata": {},
   "source": [
    "# 4번 문제"
   ]
  },
  {
   "cell_type": "code",
   "execution_count": 38,
   "metadata": {},
   "outputs": [],
   "source": [
    "class SportCar(Car):\n",
    "    def __init__(self, max_speed, speed, speed_rate):\n",
    "        super().__init__(max_speed, speed, speed_rate)"
   ]
  },
  {
   "cell_type": "code",
   "execution_count": 39,
   "metadata": {},
   "outputs": [
    {
     "name": "stdout",
     "output_type": "stream",
     "text": [
      "speed는 0보다 작을 수 없습니다\n"
     ]
    }
   ],
   "source": [
    "sportcar = SportCar(200,0,45)\n",
    "sportcar.speed_down()"
   ]
  },
  {
   "cell_type": "code",
   "execution_count": 40,
   "metadata": {},
   "outputs": [
    {
     "name": "stdout",
     "output_type": "stream",
     "text": [
      "speed는 200을 넘을 수 없습니다\n"
     ]
    }
   ],
   "source": [
    "for i in range(5):\n",
    "    sportcar.speed_up()"
   ]
  },
  {
   "cell_type": "code",
   "execution_count": 41,
   "metadata": {},
   "outputs": [],
   "source": [
    "class Truck(Car):\n",
    "    def __init__(self, max_speed, speed, speed_rate):\n",
    "        super().__init__(max_speed, speed, speed_rate)"
   ]
  },
  {
   "cell_type": "code",
   "execution_count": 42,
   "metadata": {},
   "outputs": [
    {
     "name": "stdout",
     "output_type": "stream",
     "text": [
      "speed는 0보다 작을 수 없습니다\n"
     ]
    }
   ],
   "source": [
    "truck = Truck(100,0,15)\n",
    "truck.speed_down()"
   ]
  },
  {
   "cell_type": "code",
   "execution_count": 43,
   "metadata": {},
   "outputs": [
    {
     "name": "stdout",
     "output_type": "stream",
     "text": [
      "speed는 100을 넘을 수 없습니다\n"
     ]
    }
   ],
   "source": [
    "for i in range(7):\n",
    "    truck.speed_up()"
   ]
  }
 ],
 "metadata": {
  "kernelspec": {
   "display_name": "Python 3",
   "language": "python",
   "name": "python3"
  },
  "language_info": {
   "codemirror_mode": {
    "name": "ipython",
    "version": 3
   },
   "file_extension": ".py",
   "mimetype": "text/x-python",
   "name": "python",
   "nbconvert_exporter": "python",
   "pygments_lexer": "ipython3",
   "version": "3.8.5"
  }
 },
 "nbformat": 4,
 "nbformat_minor": 4
}
