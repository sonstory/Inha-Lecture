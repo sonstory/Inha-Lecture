{
 "cells": [
  {
   "cell_type": "markdown",
   "metadata": {},
   "source": [
    "# 1번 문제"
   ]
  },
  {
   "cell_type": "code",
   "execution_count": 6,
   "metadata": {},
   "outputs": [
    {
     "name": "stdout",
     "output_type": "stream",
     "text": [
      "3 3\n",
      "6 6\n"
     ]
    }
   ],
   "source": [
    "my_list = [1,2,3,4,5,6,7,8,9]\n",
    "my_dict = {0:1, \n",
    "           1:2, \n",
    "           2:3, \n",
    "           3:4, \n",
    "           4:5, \n",
    "           5:6, \n",
    "           6:7, \n",
    "           7:8, \n",
    "           8:9}\n",
    "\n",
    "print(my_list[2], my_dict[2])\n",
    "print(my_list[5], my_dict[5])"
   ]
  },
  {
   "cell_type": "markdown",
   "metadata": {},
   "source": [
    "# 2번 문제"
   ]
  },
  {
   "cell_type": "code",
   "execution_count": 15,
   "metadata": {},
   "outputs": [
    {
     "name": "stdout",
     "output_type": "stream",
     "text": [
      "{1: 0, 2: 1, 3: 2, 4: 3, 5: 4, 6: 5, 7: 6, 8: 7, 9: 8}\n"
     ]
    }
   ],
   "source": [
    "my_dict2 = {}\n",
    "\n",
    "for i, j in enumerate(my_dict):\n",
    "    my_dict2[i+1] = j\n",
    "\n",
    "print(my_dict2)"
   ]
  },
  {
   "cell_type": "markdown",
   "metadata": {},
   "source": [
    "# 3번 문제"
   ]
  },
  {
   "cell_type": "code",
   "execution_count": 19,
   "metadata": {},
   "outputs": [
    {
     "name": "stdout",
     "output_type": "stream",
     "text": [
      "{'the', 'The', 'jumps', 'dog'}\n"
     ]
    }
   ],
   "source": [
    "a = 'The quick brown fox jumps over the lazy dog'\n",
    "set_a = set(a.split(' '))\n",
    "\n",
    "b = 'The dog jumps into the deep black hole'\n",
    "set_b = set(b.split(' '))\n",
    "\n",
    "result = set_a.intersection(set_b)\n",
    "print(result)"
   ]
  },
  {
   "cell_type": "markdown",
   "metadata": {},
   "source": [
    "# 4번 문제"
   ]
  },
  {
   "cell_type": "code",
   "execution_count": 21,
   "metadata": {},
   "outputs": [
    {
     "data": {
      "text/plain": [
       "3.3684210526315788"
      ]
     },
     "execution_count": 21,
     "metadata": {},
     "output_type": "execute_result"
    }
   ],
   "source": [
    "x1 = [3.5, 4.5, 4.0, 3.0, 2.5, 2.5, 3.5]\n",
    "w1 = [3, 3, 2, 2, 3, 3, 3]\n",
    "\n",
    "def gpa(X,w):\n",
    "    gpa = sum(a * b for a, b in zip(X,w)) / sum(w)\n",
    "    return gpa\n",
    "\n",
    "x2 = [2.5, 0, 4.5, 4.0, 4.5, 4.5, 3.0]\n",
    "w = [1,3,3,3,3,3,3]\n",
    "gpa(x2,w)"
   ]
  },
  {
   "cell_type": "markdown",
   "metadata": {},
   "source": [
    "# 5번 문제"
   ]
  },
  {
   "cell_type": "code",
   "execution_count": 4,
   "metadata": {},
   "outputs": [
    {
     "data": {
      "text/plain": [
       "2.7380952380952377"
      ]
     },
     "execution_count": 4,
     "metadata": {},
     "output_type": "execute_result"
    }
   ],
   "source": [
    "x1 = [3.5, 4.5, 4.0, 3.0, 2.5, 2.5, 3.5]\n",
    "x2 = [2.5, 0.0, 4.5, 4.0, 4.5, 4.5, 3.0]\n",
    "\n",
    "def var(X):\n",
    "    mean = sum(X) / len(X)\n",
    "    v = sum(((x - mean) ** 2 for x in X)) / (len(X)-1)\n",
    "    return v\n",
    "\n",
    "var(x2)"
   ]
  },
  {
   "cell_type": "markdown",
   "metadata": {},
   "source": [
    "# 6번 문제"
   ]
  },
  {
   "cell_type": "code",
   "execution_count": 5,
   "metadata": {},
   "outputs": [
    {
     "data": {
      "text/plain": [
       "1.917808219178082"
      ]
     },
     "execution_count": 5,
     "metadata": {},
     "output_type": "execute_result"
    }
   ],
   "source": [
    "x1 = [3.5, 4.5, 4.0, 3.0, 2.5, 2.5, 3.5]\n",
    "x2 = [2.5, 0.5, 4.5, 4.0, 4.5, 4.5, 3.0]\n",
    "\n",
    "def har(X):\n",
    "    h = len(X) / sum(1/x for x in X)\n",
    "    return h\n",
    "\n",
    "har(x2)"
   ]
  },
  {
   "cell_type": "markdown",
   "metadata": {},
   "source": [
    "# 7번 문제"
   ]
  },
  {
   "cell_type": "code",
   "execution_count": 73,
   "metadata": {},
   "outputs": [
    {
     "name": "stdout",
     "output_type": "stream",
     "text": [
      "[0, 1, 3, 10]\n",
      "(0, 1, 3, 10)\n",
      "{0, 1, 10, 3}\n"
     ]
    }
   ],
   "source": [
    "# 리스트\n",
    "l = [0,1,3,10]\n",
    "print(l)\n",
    "\n",
    "# 튜플\n",
    "t = (0,1,3,10)\n",
    "print(t)\n",
    "\n",
    "# 딕셔너리\n",
    "d = {0,1,3,10}\n",
    "print(d)"
   ]
  },
  {
   "cell_type": "markdown",
   "metadata": {},
   "source": [
    "# 8번 문제"
   ]
  },
  {
   "cell_type": "code",
   "execution_count": 72,
   "metadata": {},
   "outputs": [
    {
     "name": "stdout",
     "output_type": "stream",
     "text": [
      "deque([1, 2, 3, 4, 5, 6, 7, 8, 9, 10, 9, 8, 7, 6, 5, 4, 3, 2, 1])\n"
     ]
    }
   ],
   "source": [
    "from collections import deque\n",
    "\n",
    "A = [1,2,3,4,5,6,7,8,9,10]\n",
    "\n",
    "A = deque(A)\n",
    "A.extend([9,8,7,6,5,4,3,2,1])\n",
    "print(A)"
   ]
  },
  {
   "cell_type": "markdown",
   "metadata": {},
   "source": [
    "# 9번 문제"
   ]
  },
  {
   "cell_type": "code",
   "execution_count": 56,
   "metadata": {},
   "outputs": [],
   "source": [
    "from collections import Counter\n",
    "\n",
    "example_text = 'A Counter is a dict subclass for counting hashable objects. It is an unordered collection where elements are stored as dictionary keys and their counts are stored as dictionary values. Counts are allowed to be any integer value including zero or negative counts. The Counter class is similar to bags or multisets in other languages.'\n",
    "example_text = example_text.lower().split() # 소문자 변형"
   ]
  },
  {
   "cell_type": "code",
   "execution_count": 57,
   "metadata": {},
   "outputs": [
    {
     "name": "stdout",
     "output_type": "stream",
     "text": [
      "Counter({'is': 3, 'are': 3, 'a': 2, 'counter': 2, 'stored': 2, 'as': 2, 'dictionary': 2, 'counts': 2, 'to': 2, 'or': 2, 'dict': 1, 'subclass': 1, 'for': 1, 'counting': 1, 'hashable': 1, 'objects.': 1, 'it': 1, 'an': 1, 'unordered': 1, 'collection': 1, 'where': 1, 'elements': 1, 'keys': 1, 'and': 1, 'their': 1, 'values.': 1, 'allowed': 1, 'be': 1, 'any': 1, 'integer': 1, 'value': 1, 'including': 1, 'zero': 1, 'negative': 1, 'counts.': 1, 'the': 1, 'class': 1, 'similar': 1, 'bags': 1, 'multisets': 1, 'in': 1, 'other': 1, 'languages.': 1})\n"
     ]
    }
   ],
   "source": [
    "c = Counter()\n",
    "c = Counter(example_text) # 각 단어의 빈도수\n",
    "print(c)"
   ]
  },
  {
   "cell_type": "code",
   "execution_count": 58,
   "metadata": {},
   "outputs": [
    {
     "name": "stdout",
     "output_type": "stream",
     "text": [
      "3\n"
     ]
    }
   ],
   "source": [
    "result = c['are']\n",
    "print(result)"
   ]
  },
  {
   "cell_type": "markdown",
   "metadata": {},
   "source": [
    "# 10번 문제"
   ]
  },
  {
   "cell_type": "code",
   "execution_count": 42,
   "metadata": {},
   "outputs": [
    {
     "data": {
      "text/plain": [
       "3.0"
      ]
     },
     "execution_count": 42,
     "metadata": {},
     "output_type": "execute_result"
    }
   ],
   "source": [
    "f = lambda x,y,z: (x*z + y*z) / z\n",
    "f(1,2,3)"
   ]
  },
  {
   "cell_type": "markdown",
   "metadata": {},
   "source": [
    "# 11번 문제"
   ]
  },
  {
   "cell_type": "code",
   "execution_count": 49,
   "metadata": {},
   "outputs": [],
   "source": [
    "function = lambda x,y,z: 'z는 0이 될 수 없습니다' if z == 0 else (x*z + y*z) / z  "
   ]
  },
  {
   "cell_type": "code",
   "execution_count": 50,
   "metadata": {},
   "outputs": [
    {
     "data": {
      "text/plain": [
       "'z는 0이 될 수 없습니다'"
      ]
     },
     "execution_count": 50,
     "metadata": {},
     "output_type": "execute_result"
    }
   ],
   "source": [
    "function(3,7,0)"
   ]
  }
 ],
 "metadata": {
  "kernelspec": {
   "display_name": "Python 3",
   "language": "python",
   "name": "python3"
  },
  "language_info": {
   "codemirror_mode": {
    "name": "ipython",
    "version": 3
   },
   "file_extension": ".py",
   "mimetype": "text/x-python",
   "name": "python",
   "nbconvert_exporter": "python",
   "pygments_lexer": "ipython3",
   "version": "3.8.5"
  }
 },
 "nbformat": 4,
 "nbformat_minor": 4
}
