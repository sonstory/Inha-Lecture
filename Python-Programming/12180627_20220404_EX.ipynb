{
  "nbformat": 4,
  "nbformat_minor": 0,
  "metadata": {
    "colab": {
      "name": "12180627_20220404_EX.ipynb",
      "provenance": [],
      "collapsed_sections": []
    },
    "kernelspec": {
      "name": "python3",
      "display_name": "Python 3"
    },
    "language_info": {
      "name": "python"
    }
  },
  "cells": [
    {
      "cell_type": "markdown",
      "source": [
        "# 실습문제 1"
      ],
      "metadata": {
        "id": "zQbjwteICdXW"
      }
    },
    {
      "cell_type": "code",
      "execution_count": null,
      "metadata": {
        "colab": {
          "base_uri": "https://localhost:8080/"
        },
        "id": "XWazZE4XCGQ6",
        "outputId": "e897568d-3b1a-4a90-9db3-bcf1dd6fea28"
      },
      "outputs": [
        {
          "output_type": "stream",
          "name": "stdout",
          "text": [
            "3\n",
            "입력하신 반감기는 3년입니다\n",
            "최초 방사능 물질의 양:300g\n",
            "3년 후 남은 방사능 물질의 양 : 150.0g\n",
            "6년 후 남은 방사능 물질의 양 : 75.0g\n",
            "9년 후 남은 방사능 물질의 양 : 37.5g\n",
            "12년 후 남은 방사능 물질의 양 : 18.75g\n",
            "15년 후 남은 방사능 물질의 양 : 9.375g\n",
            "방사능 물질 9.375g의 5%인 15.0g 이하로 되기까지 걸린 시간은 15년입니다.\n"
          ]
        }
      ],
      "source": [
        "half = int(input())\n",
        "print('입력하신 반감기는 {}년입니다'.format(half))\n",
        "\n",
        "rad = int(300)\n",
        "min_rad = rad * 0.05\n",
        "print('최초 방사능 물질의 양:{}g'.format(rad))\n",
        "\n",
        "i=0\n",
        "while rad >= min_rad:\n",
        "    i += 1\n",
        "    rad = rad/2\n",
        "    next_half = half*i\n",
        "    print('{0}년 후 남은 방사능 물질의 양 : {1}g'.format(next_half, rad))\n",
        "    \n",
        "print('방사능 물질 {0}g의 5%인 {1}g 이하로 되기까지 걸린 시간은 {2}년입니다.'.format(rad, min_rad, next_half)) "
      ]
    },
    {
      "cell_type": "markdown",
      "source": [
        "# 실습 문제 2"
      ],
      "metadata": {
        "id": "J9WHl06fkzBL"
      }
    },
    {
      "cell_type": "code",
      "source": [
        "line = 0\n",
        "star = 0\n",
        "\n",
        "while line < 4:\n",
        "   line = line + 1\n",
        "   star = 0\n",
        "   while star < line:\n",
        "      star = star + 1\n",
        "      print(\"*\", end=\"\")\n",
        "   print()"
      ],
      "metadata": {
        "colab": {
          "base_uri": "https://localhost:8080/"
        },
        "id": "sZTxwSB7k0tI",
        "outputId": "19b05a13-e111-47f9-8d71-bc91be87d7d3"
      },
      "execution_count": null,
      "outputs": [
        {
          "output_type": "stream",
          "name": "stdout",
          "text": [
            "*\n",
            "**\n",
            "***\n",
            "****\n"
          ]
        }
      ]
    },
    {
      "cell_type": "markdown",
      "source": [
        "# 실습 문제 3"
      ],
      "metadata": {
        "id": "RLGFj2wjD1Ct"
      }
    },
    {
      "cell_type": "code",
      "source": [
        "score = [82, 39, 90, 40, 20, 89, 69, 79, 89, 98, 79, 88, 38, 58, 68, 80, 78, 73, 89, 93]\n",
        "\n",
        "score_all = 0\n",
        "for i in range(len(score)):\n",
        "    score_all += score[i]\n",
        "\n",
        "print(\"학급의 중간고사 평균 점수는 {}입니다.\".format(score_all / len(score)))"
      ],
      "metadata": {
        "colab": {
          "base_uri": "https://localhost:8080/"
        },
        "id": "dHtJa6dTD2La",
        "outputId": "154db1dc-4172-4a59-82b5-589fb5f8b53b"
      },
      "execution_count": null,
      "outputs": [
        {
          "output_type": "stream",
          "name": "stdout",
          "text": [
            "학급의 중간고사 평균 점수는 71.95입니다.\n"
          ]
        }
      ]
    },
    {
      "cell_type": "markdown",
      "source": [
        "# 실습 문제 4"
      ],
      "metadata": {
        "id": "p0aPRTIWF_U4"
      }
    },
    {
      "cell_type": "code",
      "source": [
        "for i in range(1,101):\n",
        "    if i % 3 == 0:\n",
        "        if i % 7 ==0:\n",
        "            print('FizzBuzz', end=\" \")\n",
        "        else:\n",
        "            print('Fizz', end=\" \")\n",
        "    elif i % 7 ==0:\n",
        "        print('Buzz', end=\" \")\n",
        "    else:\n",
        "        print(i, end=\" \")"
      ],
      "metadata": {
        "colab": {
          "base_uri": "https://localhost:8080/"
        },
        "id": "1pa2KfUIFos5",
        "outputId": "e33a8b22-3663-49dd-f573-b20284d9e964"
      },
      "execution_count": null,
      "outputs": [
        {
          "output_type": "stream",
          "name": "stdout",
          "text": [
            "1 2 Fizz 4 5 Fizz Buzz 8 Fizz 10 11 Fizz 13 Buzz Fizz 16 17 Fizz 19 20 FizzBuzz 22 23 Fizz 25 26 Fizz Buzz 29 Fizz 31 32 Fizz 34 Buzz Fizz 37 38 Fizz 40 41 FizzBuzz 43 44 Fizz 46 47 Fizz Buzz 50 Fizz 52 53 Fizz 55 Buzz Fizz 58 59 Fizz 61 62 FizzBuzz 64 65 Fizz 67 68 Fizz Buzz 71 Fizz 73 74 Fizz 76 Buzz Fizz 79 80 Fizz 82 83 FizzBuzz 85 86 Fizz 88 89 Fizz Buzz 92 Fizz 94 95 Fizz 97 Buzz Fizz 100 "
          ]
        }
      ]
    },
    {
      "cell_type": "markdown",
      "source": [
        "# 실습문제 5"
      ],
      "metadata": {
        "id": "MxZXlq3QICsy"
      }
    },
    {
      "cell_type": "code",
      "source": [
        "import sys\n",
        "\n",
        "pw = str(1234)\n",
        "\n",
        "for i in range(1,6):\n",
        "    user = input('비밀번호를 입력하세요')\n",
        "    print('입력한 비밀번호는 {}입니다'.format(user))\n",
        "    \n",
        "    if user != pw:\n",
        "         print('잘못된 로그인 시도:{}회'.format(i))\n",
        "         if i == 5:\n",
        "            sys.exit('로그인에 시도 횟수를 초과했습니다')\n",
        "    else:\n",
        "        print('로그인에 성공했습니다!')\n",
        "        break"
      ],
      "metadata": {
        "colab": {
          "base_uri": "https://localhost:8080/",
          "height": 426
        },
        "id": "Cex_X7VtG8UZ",
        "outputId": "4740bf2d-70bc-4540-a416-c209c792db11"
      },
      "execution_count": null,
      "outputs": [
        {
          "output_type": "stream",
          "name": "stdout",
          "text": [
            "비밀번호를 입력하세요4526\n",
            "입력한 비밀번호는 4526입니다\n",
            "잘못된 로그인 시도:1회\n",
            "비밀번호를 입력하세요3425\n",
            "입력한 비밀번호는 3425입니다\n",
            "잘못된 로그인 시도:2회\n",
            "비밀번호를 입력하세요2345\n",
            "입력한 비밀번호는 2345입니다\n",
            "잘못된 로그인 시도:3회\n",
            "비밀번호를 입력하세요6543\n",
            "입력한 비밀번호는 6543입니다\n",
            "잘못된 로그인 시도:4회\n",
            "비밀번호를 입력하세요4563\n",
            "입력한 비밀번호는 4563입니다\n",
            "잘못된 로그인 시도:5회\n"
          ]
        },
        {
          "output_type": "error",
          "ename": "SystemExit",
          "evalue": "ignored",
          "traceback": [
            "An exception has occurred, use %tb to see the full traceback.\n",
            "\u001b[0;31mSystemExit\u001b[0m\u001b[0;31m:\u001b[0m 로그인에 시도 횟수를 초과했습니다\n"
          ]
        },
        {
          "output_type": "stream",
          "name": "stderr",
          "text": [
            "/usr/local/lib/python3.7/dist-packages/IPython/core/interactiveshell.py:2890: UserWarning: To exit: use 'exit', 'quit', or Ctrl-D.\n",
            "  warn(\"To exit: use 'exit', 'quit', or Ctrl-D.\", stacklevel=1)\n"
          ]
        }
      ]
    }
  ]
}