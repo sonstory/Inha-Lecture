{
  "nbformat": 4,
  "nbformat_minor": 0,
  "metadata": {
    "colab": {
      "name": "12180627_20220414_EX.ipynb",
      "provenance": [],
      "collapsed_sections": []
    },
    "kernelspec": {
      "name": "python3",
      "display_name": "Python 3"
    },
    "language_info": {
      "name": "python"
    }
  },
  "cells": [
    {
      "cell_type": "markdown",
      "source": [
        "실습 문제 1"
      ],
      "metadata": {
        "id": "4vmXdMVSj61K"
      }
    },
    {
      "cell_type": "code",
      "execution_count": 72,
      "metadata": {
        "colab": {
          "base_uri": "https://localhost:8080/"
        },
        "id": "5DRFlo6OjxBd",
        "outputId": "75c9c64f-7c1d-40db-d2d0-333b8c9467ca"
      },
      "outputs": [
        {
          "output_type": "stream",
          "name": "stdout",
          "text": [
            "1\n",
            "2\n",
            "3\n",
            "4\n",
            "5\n",
            "6\n",
            "7\n",
            "8\n",
            "9\n",
            "10\n",
            "L1 = [2, 4, 6, 8, 10]\n",
            "L2 = [1, 3, 5, 7, 9]\n"
          ]
        }
      ],
      "source": [
        "L1=[]\n",
        "L2=[]\n",
        "\n",
        "for i in range(10):\n",
        "    num = int(input())\n",
        "    if num %2 == 0:\n",
        "        L1.append(num)\n",
        "    else:\n",
        "        L2.append(num)\n",
        "\n",
        "print('L1 =', L1)\n",
        "print('L2 =', L2)"
      ]
    },
    {
      "cell_type": "markdown",
      "source": [
        "실습 문제 2"
      ],
      "metadata": {
        "id": "4RlQtaa9kUFP"
      }
    },
    {
      "cell_type": "code",
      "source": [
        "list1 = ['Python', 'continuous', 'element', 'exercise', 'matrix', 'practice', 'order', 'solution', 'deep', 'choice', 'resource' ]\n",
        "result = [i for i in list1 if len(i) >= 8]\n",
        "\n",
        "print('result =', result)"
      ],
      "metadata": {
        "colab": {
          "base_uri": "https://localhost:8080/"
        },
        "id": "Nh3BspwckU3a",
        "outputId": "aeccadf5-2af5-4108-dd8e-8eaf86cede3c"
      },
      "execution_count": 73,
      "outputs": [
        {
          "output_type": "stream",
          "name": "stdout",
          "text": [
            "result = ['continuous', 'exercise', 'practice', 'solution', 'resource']\n"
          ]
        }
      ]
    },
    {
      "cell_type": "markdown",
      "source": [
        "실습 문제 3"
      ],
      "metadata": {
        "id": "hCobedUpraA1"
      }
    },
    {
      "cell_type": "code",
      "source": [
        "list1 = [12, 0, None, 23, None, -55, 234, 89, None, 0, 6, -12]\n",
        "\n",
        "for i in list1:\n",
        "    if i == None:\n",
        "        list1.remove(None)\n",
        "\n",
        "print(list1)"
      ],
      "metadata": {
        "colab": {
          "base_uri": "https://localhost:8080/"
        },
        "id": "-EKqk_j4lACE",
        "outputId": "d3f25474-ced3-4235-ece4-06fc86437be2"
      },
      "execution_count": null,
      "outputs": [
        {
          "output_type": "stream",
          "name": "stdout",
          "text": [
            "[12, 0, 23, -55, 234, 89, 0, 6, -12]\n"
          ]
        }
      ]
    },
    {
      "cell_type": "markdown",
      "source": [
        "실습 문제 4"
      ],
      "metadata": {
        "id": "_06-dDLstPVn"
      }
    },
    {
      "cell_type": "code",
      "source": [
        "score = [40, 79, 85, 97, 59]\n",
        "\n",
        "for i, value in enumerate(score):\n",
        "    if value > 60:\n",
        "        print('{}번째 학생 = {}점: 축하합니다, 합격입니다!'.format(i+1, value))"
      ],
      "metadata": {
        "colab": {
          "base_uri": "https://localhost:8080/"
        },
        "id": "g-FjeCsksNP5",
        "outputId": "ca0d63fd-e728-41c9-a712-0660dfc91010"
      },
      "execution_count": 75,
      "outputs": [
        {
          "output_type": "stream",
          "name": "stdout",
          "text": [
            "2번째 학생 = 79점: 축하합니다, 합격입니다!\n",
            "3번째 학생 = 85점: 축하합니다, 합격입니다!\n",
            "4번째 학생 = 97점: 축하합니다, 합격입니다!\n"
          ]
        }
      ]
    },
    {
      "cell_type": "markdown",
      "source": [
        "실습 문제 5"
      ],
      "metadata": {
        "id": "JrxcNbwcuSHr"
      }
    },
    {
      "cell_type": "code",
      "source": [
        "dict1 = {}\n",
        "for i in range(1,16):\n",
        "    dict1[i] = i**2\n",
        "\n",
        "print(dict1)"
      ],
      "metadata": {
        "colab": {
          "base_uri": "https://localhost:8080/"
        },
        "id": "rJOH8lrlt8rB",
        "outputId": "3c79d8ae-af8b-4bf6-96fe-ec695e2a4b18"
      },
      "execution_count": null,
      "outputs": [
        {
          "output_type": "stream",
          "name": "stdout",
          "text": [
            "{1: 1, 2: 4, 3: 9, 4: 16, 5: 25, 6: 36, 7: 49, 8: 64, 9: 81, 10: 100, 11: 121, 12: 144, 13: 169, 14: 196, 15: 225}\n"
          ]
        }
      ]
    },
    {
      "cell_type": "markdown",
      "source": [
        "실습 문제 6"
      ],
      "metadata": {
        "id": "tW9YKBO_u6px"
      }
    },
    {
      "cell_type": "code",
      "source": [
        "dict1 = {}\n",
        "list_x = []\n",
        "list_y = []\n",
        "list_z = []\n",
        "for i in range (11,41):\n",
        "    if 11 <= i <= 20:\n",
        "        list_x.append(i)\n",
        "        dict1['x'] = list_x\n",
        "    elif 21 <= i <= 30:\n",
        "        list_y.append(i)\n",
        "        dict1['y'] = list_y\n",
        "    else:\n",
        "        list_z.append(i)\n",
        "        dict1['z'] = list_z\n",
        "\n",
        "print('딕셔너리:', dict1)\n",
        "print('Key x의 5번째 값=', dict1['x'][4])\n",
        "print('Key y의 5번째 값=', dict1['y'][4])\n",
        "print('Key z의 5번째 값=', dict1['z'][4])"
      ],
      "metadata": {
        "colab": {
          "base_uri": "https://localhost:8080/"
        },
        "id": "dVH1aJHOu3V5",
        "outputId": "0782976d-ee32-46e2-9b5e-47483ac1bb51"
      },
      "execution_count": null,
      "outputs": [
        {
          "output_type": "stream",
          "name": "stdout",
          "text": [
            "딕셔너리: {'x': [11, 12, 13, 14, 15, 16, 17, 18, 19, 20], 'y': [21, 22, 23, 24, 25, 26, 27, 28, 29, 30], 'z': [31, 32, 33, 34, 35, 36, 37, 38, 39, 40]}\n",
            "Key x의 5번째 값= 15\n",
            "Key y의 5번째 값= 25\n",
            "Key z의 5번째 값= 35\n"
          ]
        }
      ]
    },
    {
      "cell_type": "markdown",
      "source": [
        "실습 문제 7"
      ],
      "metadata": {
        "id": "XUkCWfADxpns"
      }
    },
    {
      "cell_type": "code",
      "source": [
        "dict1 = {\"1\":\"3\", \"2\":\"5\", \"3\":\"7\", \"4\":\"9\", \"5\":\"11\"}\n",
        "\n",
        "num = input('Key를 입력하세요')\n",
        "if num in dict1.keys():\n",
        "    del dict1[num]\n",
        "    print('입력한 Key는 {}입니다'.format(num))\n",
        "    print('입력한 Key {}에 해당하는 값이 제거되었습니다'.format(num))\n",
        "    print('변환된 딕셔너리 값은 다음과 같습니다:', dict1)\n",
        "else:\n",
        "    print('입력한 Key {}는 딕셔너리 내에 존재하지 않습니다'.format(num))"
      ],
      "metadata": {
        "colab": {
          "base_uri": "https://localhost:8080/"
        },
        "id": "m-ohDHt0wAn9",
        "outputId": "79cf0e4b-a675-421e-a9ab-47726cf0025a"
      },
      "execution_count": null,
      "outputs": [
        {
          "output_type": "stream",
          "name": "stdout",
          "text": [
            "Key를 입력하세요3\n",
            "입력한 Key는 3입니다\n",
            "입력한 Key 3에 해당하는 값이 제거되었습니다\n",
            "변환된 딕셔너리 값은 다음과 같습니다: {'1': '3', '2': '5', '4': '9', '5': '11'}\n"
          ]
        }
      ]
    }
  ]
}