{
 "cells": [
  {
   "cell_type": "markdown",
   "metadata": {},
   "source": [
    "실습 문제 1"
   ]
  },
  {
   "cell_type": "code",
   "execution_count": 25,
   "metadata": {},
   "outputs": [
    {
     "name": "stdout",
     "output_type": "stream",
     "text": [
      "40\n",
      "입력받은 정수는 40입니다\n",
      "40의 세제곱은 3의 배수가 아닙니다.\n"
     ]
    }
   ],
   "source": [
    "num = int(input())\n",
    "num_3 = num ** 3\n",
    "print(\"입력받은 정수는 {}입니다\".format(num))\n",
    "\n",
    "if num_3 % 3 == 0:\n",
    "    print(\"{}의 세제곱은 3의 배수입니다\".format(num))\n",
    "else:\n",
    "    print(\"{}의 세제곱은 3의 배수가 아닙니다.\".format(num))"
   ]
  },
  {
   "cell_type": "markdown",
   "metadata": {},
   "source": [
    "실습 문제 2"
   ]
  },
  {
   "cell_type": "code",
   "execution_count": 11,
   "metadata": {},
   "outputs": [
    {
     "name": "stdout",
     "output_type": "stream",
     "text": [
      "10\n",
      "입력받은 수는 10입니다\n",
      "입력받은 수는 짝수입니다\n"
     ]
    }
   ],
   "source": [
    "num = int(input())\n",
    "print(\"입력받은 수는 {}입니다\".format(num))\n",
    "\n",
    "if num%2 == 0:\n",
    "    print(\"입력받은 수는 짝수입니다\")\n",
    "else:\n",
    "    print(\"입력받은 수는 홀수입니다\")"
   ]
  },
  {
   "cell_type": "markdown",
   "metadata": {},
   "source": [
    "실습 문제 3"
   ]
  },
  {
   "cell_type": "code",
   "execution_count": 30,
   "metadata": {},
   "outputs": [
    {
     "name": "stdout",
     "output_type": "stream",
     "text": [
      "2.5\n",
      "입력받은 수는 실수입니다\n"
     ]
    }
   ],
   "source": [
    "num = float(input())\n",
    "\n",
    "if num % 1 ==0:\n",
    "    if num%2 == 0:\n",
    "        print(\"입력받은 수는 짝수입니다\")\n",
    "    else:\n",
    "        print(\"입력받은 수는 홀수입니다\")\n",
    "else:\n",
    "    print(\"입력받은 수는 실수입니다\")"
   ]
  },
  {
   "cell_type": "markdown",
   "metadata": {},
   "source": [
    "실습 문제 4"
   ]
  },
  {
   "cell_type": "code",
   "execution_count": 5,
   "metadata": {},
   "outputs": [
    {
     "name": "stdout",
     "output_type": "stream",
     "text": [
      "정수를 입력하세요50\n",
      "정수를 입력하세요40\n",
      "정수를 입력하세요30\n",
      "30\n"
     ]
    }
   ],
   "source": [
    "a = int(input(\"정수를 입력하세요\"))\n",
    "b = int(input(\"정수를 입력하세요\"))\n",
    "c = int(input(\"정수를 입력하세요\"))\n",
    "\n",
    "if a > b:\n",
    "    if b > c:\n",
    "        print(c)\n",
    "    elif b < c:\n",
    "        print(b)\n",
    "    else:\n",
    "        print('b=c')\n",
    "\n",
    "if a < b:\n",
    "    if a > c:\n",
    "        print(c)\n",
    "    elif a < c:\n",
    "        print(a)\n",
    "    else:\n",
    "        print(\"a=c\")\n",
    "        \n",
    "if a == b:\n",
    "    print(\"a=b\")"
   ]
  },
  {
   "cell_type": "markdown",
   "metadata": {},
   "source": [
    "실습 문제 5"
   ]
  },
  {
   "cell_type": "code",
   "execution_count": 1,
   "metadata": {},
   "outputs": [
    {
     "name": "stdout",
     "output_type": "stream",
     "text": [
      "inhapython2022!\n",
      "입력하신 비밀번호는 \"inhapython2022!\"입니다\n",
      "비밀번호에는 특수문자가 포함될 수 없습니다!\n"
     ]
    },
    {
     "ename": "SystemExit",
     "evalue": "0",
     "output_type": "error",
     "traceback": [
      "An exception has occurred, use %tb to see the full traceback.\n",
      "\u001b[1;31mSystemExit\u001b[0m\u001b[1;31m:\u001b[0m 0\n"
     ]
    },
    {
     "name": "stderr",
     "output_type": "stream",
     "text": [
      "C:\\Users\\sjy54\\anaconda3\\lib\\site-packages\\IPython\\core\\interactiveshell.py:3426: UserWarning: To exit: use 'exit', 'quit', or Ctrl-D.\n",
      "  warn(\"To exit: use 'exit', 'quit', or Ctrl-D.\", stacklevel=1)\n"
     ]
    }
   ],
   "source": [
    "import sys\n",
    "\n",
    "pw = input()\n",
    "print('입력하신 비밀번호는 \"{}\"입니다'.format(pw))\n",
    "\n",
    "if 6 <= len(pw) <= 16:\n",
    "    if pw.isalnum() == True:\n",
    "        print(\"비밀번호 설정이 완료되었습니다!\")\n",
    "    else:\n",
    "        print(\"비밀번호에는 특수문자가 포함될 수 없습니다!\")\n",
    "        sys.exit(0)\n",
    "else:\n",
    "    print(\"비밀번호는 최소 6글자에서 최대 16글자여야 합니다!\")\n",
    "    sys.exit(0)"
   ]
  }
 ],
 "metadata": {
  "kernelspec": {
   "display_name": "Python 3",
   "language": "python",
   "name": "python3"
  },
  "language_info": {
   "codemirror_mode": {
    "name": "ipython",
    "version": 3
   },
   "file_extension": ".py",
   "mimetype": "text/x-python",
   "name": "python",
   "nbconvert_exporter": "python",
   "pygments_lexer": "ipython3",
   "version": "3.8.5"
  }
 },
 "nbformat": 4,
 "nbformat_minor": 5
}
