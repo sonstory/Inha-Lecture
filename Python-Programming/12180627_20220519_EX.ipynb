{
  "nbformat": 4,
  "nbformat_minor": 0,
  "metadata": {
    "colab": {
      "name": "12180627_20220519_EX.ipynb",
      "provenance": [],
      "collapsed_sections": []
    },
    "kernelspec": {
      "name": "python3",
      "display_name": "Python 3"
    },
    "language_info": {
      "name": "python"
    }
  },
  "cells": [
    {
      "cell_type": "markdown",
      "source": [
        "# 실습문제 1"
      ],
      "metadata": {
        "id": "lB-aGePKTeiM"
      }
    },
    {
      "cell_type": "code",
      "execution_count": 3,
      "metadata": {
        "colab": {
          "base_uri": "https://localhost:8080/",
          "height": 0
        },
        "id": "--lIoRquTVF1",
        "outputId": "8e28e7f3-9527-4b51-ae47-eb5c8e0bb444"
      },
      "outputs": [
        {
          "output_type": "stream",
          "name": "stdout",
          "text": [
            "ab\n",
            "정수만 입력하세요!\n"
          ]
        }
      ],
      "source": [
        "import math\n",
        "try:\n",
        "    a = list(map(int, input().split()))\n",
        "    b = list(map(int, input().split()))\n",
        "    distance = math.sqrt((b[0] - a[0])**2 + (b[1] - a[1])**2)\n",
        "    print('두 점 사이의 거리:',round(distance,2))\n",
        "except:\n",
        "    print('정수만 입력하세요!')"
      ]
    },
    {
      "cell_type": "markdown",
      "source": [
        "# 실습문제 2"
      ],
      "metadata": {
        "id": "fx5OasqOBvkF"
      }
    },
    {
      "cell_type": "code",
      "source": [
        "def div(a,b):\n",
        "    print(a/b)\n",
        "\n",
        "try:\n",
        "    a = int(input('첫 번째 정수를 입력하세요'))\n",
        "    b = int(input('두 번째 정수를 입력하세요'))\n",
        "    print(div(a,b))\n",
        "except ValueError as err:\n",
        "    print('정수를 입력하세요!')\n",
        "    print('err:',err)\n",
        "except ZeroDivisionError:\n",
        "    print('0으로 나눌 수 없습니다!')"
      ],
      "metadata": {
        "colab": {
          "base_uri": "https://localhost:8080/"
        },
        "id": "QzvbIdIkAJ4a",
        "outputId": "2aa08437-9bdc-4c3a-f27e-c6080f7351f9"
      },
      "execution_count": null,
      "outputs": [
        {
          "output_type": "stream",
          "name": "stdout",
          "text": [
            "첫 번째 정수를 입력하세요a\n",
            "정수를 입력하세요!\n",
            "err: invalid literal for int() with base 10: 'a'\n"
          ]
        }
      ]
    },
    {
      "cell_type": "markdown",
      "source": [
        "# 실습 문제 3"
      ],
      "metadata": {
        "id": "p7KmMUHLD1NG"
      }
    },
    {
      "cell_type": "code",
      "source": [
        "def print_list_element(the_list, index):\n",
        "    print(the_list[index])\n",
        "\n",
        "list1 = [1,5,3,2]\n",
        "try:\n",
        "    print_list_element(list1,5)\n",
        "except IndexError as err:\n",
        "    print('입력한 인덱스가 리스트의 범위를 벗어났습니다!')"
      ],
      "metadata": {
        "colab": {
          "base_uri": "https://localhost:8080/",
          "height": 0
        },
        "id": "XQfleWs4DScy",
        "outputId": "bd9c4559-18e2-48da-9b5f-cc68f22099fb"
      },
      "execution_count": 1,
      "outputs": [
        {
          "output_type": "stream",
          "name": "stdout",
          "text": [
            "입력한 인덱스가 리스트의 범위를 벗어났습니다!\n"
          ]
        }
      ]
    },
    {
      "cell_type": "markdown",
      "source": [
        "# 실습 문제 4"
      ],
      "metadata": {
        "id": "ebFboG0DE3Em"
      }
    },
    {
      "cell_type": "code",
      "source": [
        "while True:\n",
        "    try:\n",
        "        num = int(input('자연수를 입력하세요:'))\n",
        "    except:\n",
        "        print('자연수를 입력하지 않았습니다!')\n",
        "        break\n",
        "    else:\n",
        "        if a < 0:\n",
        "            raise ValueError('양수를 입력하세요!')\n",
        "        if a % 2 == 0:\n",
        "            print('{0}는 짝수입니다.'.format(a))\n",
        "        else:\n",
        "            print('{0}는 홀수입니다.'.format(a))"
      ],
      "metadata": {
        "colab": {
          "base_uri": "https://localhost:8080/",
          "height": 338
        },
        "id": "pj8LmYWfD_PQ",
        "outputId": "a3468c7f-b61c-41a2-963c-58e5827b7b7d"
      },
      "execution_count": 2,
      "outputs": [
        {
          "name": "stdout",
          "output_type": "stream",
          "text": [
            "자연수를 입력하세요:3\n",
            "3는 홀수입니다.\n",
            "자연수를 입력하세요:2\n",
            "2는 짝수입니다.\n",
            "자연수를 입력하세요:-1\n"
          ]
        },
        {
          "output_type": "error",
          "ename": "ValueError",
          "evalue": "ignored",
          "traceback": [
            "\u001b[0;31m---------------------------------------------------------------------------\u001b[0m",
            "\u001b[0;31mValueError\u001b[0m                                Traceback (most recent call last)",
            "\u001b[0;32m<ipython-input-2-190e67a62c8f>\u001b[0m in \u001b[0;36m<module>\u001b[0;34m()\u001b[0m\n\u001b[1;32m      7\u001b[0m     \u001b[0;32melse\u001b[0m\u001b[0;34m:\u001b[0m\u001b[0;34m\u001b[0m\u001b[0;34m\u001b[0m\u001b[0m\n\u001b[1;32m      8\u001b[0m         \u001b[0;32mif\u001b[0m \u001b[0ma\u001b[0m \u001b[0;34m<\u001b[0m \u001b[0;36m0\u001b[0m\u001b[0;34m:\u001b[0m\u001b[0;34m\u001b[0m\u001b[0;34m\u001b[0m\u001b[0m\n\u001b[0;32m----> 9\u001b[0;31m             \u001b[0;32mraise\u001b[0m \u001b[0mValueError\u001b[0m\u001b[0;34m(\u001b[0m\u001b[0;34m'양수만 입력하세요 !'\u001b[0m\u001b[0;34m)\u001b[0m\u001b[0;34m\u001b[0m\u001b[0;34m\u001b[0m\u001b[0m\n\u001b[0m\u001b[1;32m     10\u001b[0m         \u001b[0;32mif\u001b[0m \u001b[0ma\u001b[0m \u001b[0;34m%\u001b[0m \u001b[0;36m2\u001b[0m \u001b[0;34m==\u001b[0m \u001b[0;36m0\u001b[0m\u001b[0;34m:\u001b[0m\u001b[0;34m\u001b[0m\u001b[0;34m\u001b[0m\u001b[0m\n\u001b[1;32m     11\u001b[0m             \u001b[0mprint\u001b[0m\u001b[0;34m(\u001b[0m\u001b[0;34m'{0}는 짝수입니다.'\u001b[0m\u001b[0;34m.\u001b[0m\u001b[0mformat\u001b[0m\u001b[0;34m(\u001b[0m\u001b[0ma\u001b[0m\u001b[0;34m)\u001b[0m\u001b[0;34m)\u001b[0m\u001b[0;34m\u001b[0m\u001b[0;34m\u001b[0m\u001b[0m\n",
            "\u001b[0;31mValueError\u001b[0m: 양수만 입력하세요 !"
          ]
        }
      ]
    }
  ]
}