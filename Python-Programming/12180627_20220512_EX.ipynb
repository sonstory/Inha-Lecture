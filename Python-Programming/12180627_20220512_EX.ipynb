{
  "nbformat": 4,
  "nbformat_minor": 0,
  "metadata": {
    "colab": {
      "name": "12180627_20220512_EX.ipynb",
      "provenance": [],
      "collapsed_sections": []
    },
    "kernelspec": {
      "name": "python3",
      "display_name": "Python 3"
    },
    "language_info": {
      "name": "python"
    }
  },
  "cells": [
    {
      "cell_type": "markdown",
      "source": [
        "# 실습문제 1"
      ],
      "metadata": {
        "id": "pmfLBtWSmjIX"
      }
    },
    {
      "cell_type": "code",
      "execution_count": 1,
      "metadata": {
        "id": "A6QfCqElma1k",
        "colab": {
          "base_uri": "https://localhost:8080/"
        },
        "outputId": "8cd2e487-95f9-4469-b1f0-30fa7805e621"
      },
      "outputs": [
        {
          "output_type": "execute_result",
          "data": {
            "text/plain": [
              "True"
            ]
          },
          "metadata": {},
          "execution_count": 1
        }
      ],
      "source": [
        "class Triangle:\n",
        "    def __init__(self, a, b, c):\n",
        "        self.a = int(a)\n",
        "        self.b = int(b)\n",
        "        self.c = int(c)\n",
        "\n",
        "    def sum_angle(self):\n",
        "        return 180 == self.a + self.b + self.c\n",
        "\n",
        "angle = Triangle(90,30,60)\n",
        "angle.sum_angle()"
      ]
    },
    {
      "cell_type": "markdown",
      "source": [
        "# 실습 문제 2"
      ],
      "metadata": {
        "id": "ly0q0mkhGWND"
      }
    },
    {
      "cell_type": "code",
      "source": [
        "class Song:\n",
        "    def __init__(self, lyrics):\n",
        "        self.lyrics = lyrics\n",
        "    \n",
        "    def sing_a_song(self):\n",
        "        for i in self.lyrics:\n",
        "            print(i)\n",
        "\n",
        "lyrics = Song([\"salvation is coming is coming in the morning\",\\\n",
        "               \"wait patiently, aiming straight for it\",\\\n",
        "               \"but now what we need is a little rain on our face from you\"])\n",
        "lyrics.sing_a_song()"
      ],
      "metadata": {
        "id": "mq0Rc47voUTr",
        "colab": {
          "base_uri": "https://localhost:8080/"
        },
        "outputId": "d15d3bd1-ba96-4259-b1a0-87bc43dac04f"
      },
      "execution_count": 2,
      "outputs": [
        {
          "output_type": "stream",
          "name": "stdout",
          "text": [
            "salvation is coming is coming in the morning\n",
            "wait patiently, aiming straight for it\n",
            "but now what we need is a little rain on our face from you\n"
          ]
        }
      ]
    },
    {
      "cell_type": "markdown",
      "source": [
        "# 실습 문제 3"
      ],
      "metadata": {
        "id": "1nlBBWHDGqXg"
      }
    },
    {
      "cell_type": "code",
      "source": [
        "# 3-1\n",
        "class restaurant:\n",
        "    def __init__(self,course):\n",
        "        self.course = course\n",
        "\n",
        "    def information(self):\n",
        "        if course == \"A코스\":\n",
        "            print(\"A코스: 삼계탕 (698kcal) - 가격 5000원\")\n",
        "        elif course == \"B코스\":    \n",
        "            print(\"B코스: 부대찌개 (570kcal) - 가격 4500원\")\n",
        "        else:\n",
        "            print(\"에러: 없는 코스입니다\")\n",
        "\n",
        "course = input(\"A코스와 B코스 중 원하시는 코스를 입력해주세요 (예:A코스):\")\n",
        "restaurant.information(course)"
      ],
      "metadata": {
        "colab": {
          "base_uri": "https://localhost:8080/"
        },
        "id": "Pz2gB5hQGknW",
        "outputId": "acc9f17c-1540-4181-d3d5-ec749f721824"
      },
      "execution_count": 4,
      "outputs": [
        {
          "output_type": "stream",
          "name": "stdout",
          "text": [
            "A코스와 B코스 중 원하시는 코스를 입력해주세요 (예:A코스):A코스\n",
            "A코스: 삼계탕 (698kcal) - 가격 5000원\n"
          ]
        }
      ]
    },
    {
      "cell_type": "markdown",
      "source": [
        "# 실습 문제 4"
      ],
      "metadata": {
        "id": "V2QltGmjHV9Z"
      }
    },
    {
      "cell_type": "code",
      "source": [
        "class Calculator:\n",
        "    def __init__(self):\n",
        "        self.value = 0\n",
        "\n",
        "    def add(self, val):\n",
        "        self.value += val\n",
        "        return self.value\n",
        "\n",
        "class UpgradeCalculator(Calculator):\n",
        "    def minus(self, val):\n",
        "        self.value -= val\n",
        "        return self.value\n",
        "\n",
        "a = UpgradeCalculator()\n",
        "print(a.minus(3))"
      ],
      "metadata": {
        "colab": {
          "base_uri": "https://localhost:8080/"
        },
        "id": "WwouzzTiHGMw",
        "outputId": "0075ba41-f571-47c0-928b-3d73ab28c656"
      },
      "execution_count": 5,
      "outputs": [
        {
          "output_type": "stream",
          "name": "stdout",
          "text": [
            "-3\n"
          ]
        }
      ]
    },
    {
      "cell_type": "markdown",
      "source": [
        "# 실습 문제 5"
      ],
      "metadata": {
        "id": "1v7YQYD4IE5W"
      }
    },
    {
      "cell_type": "code",
      "source": [
        "class Ft_to_M:\n",
        "    def __init__(self, ftheight):\n",
        "        self.ftheight = ftheight\n",
        "        self.__fttom = 0.3048\n",
        "        \n",
        "    @property\n",
        "    def fttom(self):\n",
        "        return self.__fttom\n",
        "\n",
        "    @fttom.setter\n",
        "    def fttom(self, value):\n",
        "        self.__fttom = value\n",
        "    \n",
        "    def transform(self):\n",
        "        self.ftheight = self.ftheight * self.__fttom\n",
        "        return self.ftheight\n",
        "\n",
        "ftheight = Ft_to_M(5.6)\n",
        "print(ftheight.transform())\n",
        "Ft_to_M.fttom = 0.5\n",
        "print(ftheight.transform())"
      ],
      "metadata": {
        "colab": {
          "base_uri": "https://localhost:8080/"
        },
        "id": "d3EdjetpIDzr",
        "outputId": "88ec6e40-4bc5-47ad-a811-0071ace41268"
      },
      "execution_count": 6,
      "outputs": [
        {
          "output_type": "stream",
          "name": "stdout",
          "text": [
            "1.70688\n",
            "0.520257024\n"
          ]
        }
      ]
    }
  ]
}