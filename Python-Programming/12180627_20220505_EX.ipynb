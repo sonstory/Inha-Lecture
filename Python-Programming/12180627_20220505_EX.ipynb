{
  "nbformat": 4,
  "nbformat_minor": 0,
  "metadata": {
    "colab": {
      "name": "12180627_20220505_EX.ipynb",
      "provenance": [],
      "collapsed_sections": []
    },
    "kernelspec": {
      "name": "python3",
      "display_name": "Python 3"
    },
    "language_info": {
      "name": "python"
    }
  },
  "cells": [
    {
      "cell_type": "markdown",
      "source": [
        "# 실습 문제 1"
      ],
      "metadata": {
        "id": "IBFhnr9YQmNl"
      }
    },
    {
      "cell_type": "code",
      "execution_count": null,
      "metadata": {
        "colab": {
          "base_uri": "https://localhost:8080/"
        },
        "id": "Go9RwhpEQXhJ",
        "outputId": "64139e94-9f07-469a-f835-2dace492e085"
      },
      "outputs": [
        {
          "output_type": "execute_result",
          "data": {
            "text/plain": [
              "[1, 3, 8]"
            ]
          },
          "metadata": {},
          "execution_count": 5
        }
      ],
      "source": [
        "del_minus = lambda item: item > 0\n",
        "\n",
        "list1 = [1,-2,3,-5,8,-3]\n",
        "list2 = filter(del_minus, list1)\n",
        "list(list2)"
      ]
    },
    {
      "cell_type": "markdown",
      "source": [
        "# 실습 문제 2"
      ],
      "metadata": {
        "id": "LGlFYjytRdtn"
      }
    },
    {
      "cell_type": "code",
      "source": [
        "count_even = lambda item : (item % 2 == 0)\n",
        "count_odd = lambda item : item % 2 != 0\n",
        "\n",
        "list1 = [1,2,3,5,7,8,9,10]\n",
        "list2 = filter(count_even, list1)\n",
        "list3 = filter(count_odd, list1)\n",
        "\n",
        "print(len(list(list2))) # 짝수 개수\n",
        "print(len(list(list3))) # 홀수 개수"
      ],
      "metadata": {
        "colab": {
          "base_uri": "https://localhost:8080/"
        },
        "id": "xakzWsJIRPtz",
        "outputId": "5c754dfb-c420-4981-b6b4-0d6abc1b23c4"
      },
      "execution_count": null,
      "outputs": [
        {
          "output_type": "stream",
          "name": "stdout",
          "text": [
            "3\n",
            "5\n"
          ]
        }
      ]
    },
    {
      "cell_type": "markdown",
      "source": [
        "# 실습 문제 3"
      ],
      "metadata": {
        "id": "N_ZoOVQaSad7"
      }
    },
    {
      "cell_type": "code",
      "source": [
        "count_a = lambda item : item.count('a')\n",
        "\n",
        "list1 = [\"Alaska\", \"Alabama\", \"Arizona\", \"Arkansas\",\"Colorado\", \"Montana\", \"Nevada\"]\n",
        "list2 = map(count_a, list1)\n",
        "print(list(list2))"
      ],
      "metadata": {
        "colab": {
          "base_uri": "https://localhost:8080/"
        },
        "id": "k9sRPoE7SCsN",
        "outputId": "a7d3923e-a9ea-4bdc-e14a-50306ca35e79"
      },
      "execution_count": null,
      "outputs": [
        {
          "output_type": "stream",
          "name": "stdout",
          "text": [
            "[2, 3, 1, 2, 1, 2, 2]\n"
          ]
        }
      ]
    },
    {
      "cell_type": "markdown",
      "source": [
        "# 실습 문제 4"
      ],
      "metadata": {
        "id": "kNeNb-d9VvdA"
      }
    },
    {
      "cell_type": "code",
      "source": [
        "import random\n",
        "\n",
        "list1 = list(range(1,46))\n",
        "random.sample(list1, k=6)"
      ],
      "metadata": {
        "colab": {
          "base_uri": "https://localhost:8080/"
        },
        "id": "cTaNENM7TNij",
        "outputId": "a8bb6bdb-5768-48ed-eab3-f8b5288af870"
      },
      "execution_count": null,
      "outputs": [
        {
          "output_type": "execute_result",
          "data": {
            "text/plain": [
              "[14, 33, 43, 15, 35, 40]"
            ]
          },
          "metadata": {},
          "execution_count": 21
        }
      ]
    },
    {
      "cell_type": "markdown",
      "source": [
        "# 실습 문제 5"
      ],
      "metadata": {
        "id": "FxMNASYDVsqo"
      }
    },
    {
      "cell_type": "code",
      "source": [
        "%%writefile calculator.py\n",
        "def add(a, b):\n",
        "    return a + b\n",
        "\n",
        "def sub(a, b): \n",
        "    return a - b\n",
        "\n",
        "def mul(a, b):\n",
        "    return a * b\n",
        "\n",
        "def div(a, b):\n",
        "    return a / b\n",
        "\n",
        "def squared(a, b):\n",
        "    return a ** b\n",
        "\n",
        "def mod(a,b):\n",
        "    return a // b"
      ],
      "metadata": {
        "id": "B1L508BnV1QJ",
        "colab": {
          "base_uri": "https://localhost:8080/"
        },
        "outputId": "c49c5fff-81b1-44c3-a92b-cd1c4eea1b4b"
      },
      "execution_count": null,
      "outputs": [
        {
          "output_type": "stream",
          "name": "stdout",
          "text": [
            "Writing calculator.py\n"
          ]
        }
      ]
    },
    {
      "cell_type": "code",
      "source": [
        "import calculator\n",
        "\n",
        "print(calculator.add(2,5))\n",
        "print(calculator.sub(2,5))\n",
        "print(calculator.mul(2,5))\n",
        "print(calculator.div(2,5))\n",
        "print(calculator.squared(2,5))\n",
        "print(calculator.mod(2,5))"
      ],
      "metadata": {
        "colab": {
          "base_uri": "https://localhost:8080/"
        },
        "id": "CaVVi-zEYhjg",
        "outputId": "042bac66-6670-448d-b52b-8b8e14850e04"
      },
      "execution_count": null,
      "outputs": [
        {
          "output_type": "stream",
          "name": "stdout",
          "text": [
            "7\n",
            "-3\n",
            "10\n",
            "0.4\n",
            "32\n",
            "0\n"
          ]
        }
      ]
    },
    {
      "cell_type": "markdown",
      "source": [
        "pow를 함수 이름 지정 시 오류가 발생해서 squared로 변경"
      ],
      "metadata": {
        "id": "DAU5OY1rUuz2"
      }
    },
    {
      "cell_type": "markdown",
      "source": [
        "# 실습 문제 6"
      ],
      "metadata": {
        "id": "es8OFzZtUVy5"
      }
    },
    {
      "cell_type": "code",
      "source": [
        "%%writefile calculator_package/basic.py\n",
        "def add(a, b):\n",
        "    return a + b\n",
        "\n",
        "def sub(a, b): \n",
        "    return a - b\n",
        "\n",
        "def mul(a, b):\n",
        "    return a * b\n",
        "\n",
        "def div(a, b):\n",
        "    return a / b"
      ],
      "metadata": {
        "colab": {
          "base_uri": "https://localhost:8080/"
        },
        "id": "WyYwxByAUWmw",
        "outputId": "ba60e8ed-03e3-48bc-f184-3e18fa85344b"
      },
      "execution_count": 18,
      "outputs": [
        {
          "output_type": "stream",
          "name": "stdout",
          "text": [
            "Overwriting calculator_package/basic.py\n"
          ]
        }
      ]
    },
    {
      "cell_type": "code",
      "source": [
        "%%writefile calculator_package/advanced.py\n",
        "def squared(a, b):\n",
        "    return a ** b\n",
        "\n",
        "def mod(a,b):\n",
        "    return a // b"
      ],
      "metadata": {
        "colab": {
          "base_uri": "https://localhost:8080/"
        },
        "id": "oLp2grDTVHsk",
        "outputId": "dfd25675-4559-410d-ee38-2a55a767221b"
      },
      "execution_count": 19,
      "outputs": [
        {
          "output_type": "stream",
          "name": "stdout",
          "text": [
            "Overwriting calculator_package/advanced.py\n"
          ]
        }
      ]
    },
    {
      "cell_type": "code",
      "source": [
        "%%writefile calculator_package/__init__.py\n",
        "__all__ = ['basic','advanced']"
      ],
      "metadata": {
        "colab": {
          "base_uri": "https://localhost:8080/"
        },
        "id": "rKYLRt3PqzhU",
        "outputId": "0d84e9e9-d0d8-4217-da91-5bc90a38c20c"
      },
      "execution_count": 20,
      "outputs": [
        {
          "output_type": "stream",
          "name": "stdout",
          "text": [
            "Overwriting calculator_package/__init__.py\n"
          ]
        }
      ]
    },
    {
      "cell_type": "code",
      "source": [
        "from calculator_package import basic\n",
        "from calculator_package import advanced"
      ],
      "metadata": {
        "id": "fvsM7iy0KmfP"
      },
      "execution_count": 22,
      "outputs": []
    },
    {
      "cell_type": "code",
      "source": [
        "from calculator_package import *\n",
        "\n",
        "print(basic.add(2,5))\n",
        "print(basic.sub(2,5))\n",
        "print(basic.mul(2,5))\n",
        "print(basic.div(2,5))\n",
        "print(advanced.squared(2,5))\n",
        "print(advanced.mod(2,5))"
      ],
      "metadata": {
        "colab": {
          "base_uri": "https://localhost:8080/"
        },
        "id": "uSpOkhy9VzKF",
        "outputId": "ecc4cbf0-4af0-4322-a744-c6b853f831ac"
      },
      "execution_count": 23,
      "outputs": [
        {
          "output_type": "stream",
          "name": "stdout",
          "text": [
            "7\n",
            "-3\n",
            "10\n",
            "0.4\n",
            "32\n",
            "0\n"
          ]
        }
      ]
    }
  ]
}