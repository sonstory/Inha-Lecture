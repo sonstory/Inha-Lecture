{
  "nbformat": 4,
  "nbformat_minor": 0,
  "metadata": {
    "colab": {
      "name": "12180627_20220317_EX.ipynb",
      "provenance": [],
      "collapsed_sections": []
    },
    "kernelspec": {
      "name": "python3",
      "display_name": "Python 3"
    },
    "language_info": {
      "name": "python"
    }
  },
  "cells": [
    {
      "cell_type": "markdown",
      "source": [
        "실습 문제 1"
      ],
      "metadata": {
        "id": "vtRSSVPkhhDS"
      }
    },
    {
      "cell_type": "code",
      "execution_count": null,
      "metadata": {
        "colab": {
          "base_uri": "https://localhost:8080/"
        },
        "id": "2WwwyPtnhXxm",
        "outputId": "afc0a5cf-1c3c-4948-f1df-4a60af2062c6"
      },
      "outputs": [
        {
          "output_type": "stream",
          "name": "stdout",
          "text": [
            "number 변수의 데이터형은 <class 'int'> 입니다\n",
            "number 변수를 문자열로 바꾼 데이터형은 <class 'str'> 입니다\n"
          ]
        }
      ],
      "source": [
        "number = 12180627\n",
        "number_str = str(12180627)\n",
        "\n",
        "print(\"number 변수의 데이터형은 {} 입니다\".format(type(number)))\n",
        "print(\"number 변수를 문자열로 바꾼 데이터형은 {} 입니다\".format(type(number_str)))"
      ]
    },
    {
      "cell_type": "markdown",
      "source": [
        "실습 문제 2"
      ],
      "metadata": {
        "id": "REdOFGe4iBj6"
      }
    },
    {
      "cell_type": "code",
      "source": [
        "diameter = int(input(\"원의 지름을 입력하세요 :\"))\n",
        "circle = ((diameter/2) ** 2) * 3.14\n",
        "\n",
        "print(\"원의 넓이는 아래와 같습니다 :{}\".format(circle))"
      ],
      "metadata": {
        "colab": {
          "base_uri": "https://localhost:8080/"
        },
        "id": "NSPrBfvJhvCk",
        "outputId": "c38e2b49-9878-4476-e468-dc9c823aa93a"
      },
      "execution_count": null,
      "outputs": [
        {
          "output_type": "stream",
          "name": "stdout",
          "text": [
            "원의 지름을 입력하세요 :4\n",
            "원의 넓이는 아래와 같습니다 :12.56\n"
          ]
        }
      ]
    },
    {
      "cell_type": "markdown",
      "source": [
        "실습 문제 3"
      ],
      "metadata": {
        "id": "LW2s04nuienz"
      }
    },
    {
      "cell_type": "code",
      "source": [
        "sec_1 = 5320\n",
        "min = sec_1 // 60\n",
        "sec_2 = 5320 % min\n",
        "\n",
        "print(\"{0}초는 {1}분 {2}초입니다.\".format(sec_1, min, sec_2))"
      ],
      "metadata": {
        "colab": {
          "base_uri": "https://localhost:8080/"
        },
        "id": "POXpuyRDicrs",
        "outputId": "b0b4bee4-8dd3-4254-b8a3-77f8067a64d3"
      },
      "execution_count": 24,
      "outputs": [
        {
          "output_type": "stream",
          "name": "stdout",
          "text": [
            "5320초는 88분 40초입니다.\n"
          ]
        }
      ]
    },
    {
      "cell_type": "markdown",
      "source": [
        "실습 문제 4"
      ],
      "metadata": {
        "id": "GcED17k3jZ1w"
      }
    },
    {
      "cell_type": "code",
      "source": [
        "sec_1 = 5320\n",
        "hour = sec_1 // 3600\n",
        "min = sec_1 // 60 - hour*60\n",
        "sec_2 = sec_1 % 60\n",
        "\n",
        "print(\"{0}초는 {1}시간 {2}분 {3}초입니다.\".format(sec_1, hour, min, sec_2))"
      ],
      "metadata": {
        "id": "TdOfR5mDjVVf",
        "colab": {
          "base_uri": "https://localhost:8080/"
        },
        "outputId": "8e3cf636-0f85-4a91-92d0-fb3ac47db39b"
      },
      "execution_count": 25,
      "outputs": [
        {
          "output_type": "stream",
          "name": "stdout",
          "text": [
            "5320초는 1시간 28분 40초입니다.\n"
          ]
        }
      ]
    },
    {
      "cell_type": "markdown",
      "source": [
        "실습 문제 5"
      ],
      "metadata": {
        "id": "3LP6JEtxmOOM"
      }
    },
    {
      "cell_type": "code",
      "source": [
        "import math\n",
        "\n",
        "x1 = int(input(\"첫번째 점의 x 좌표값 x1 값을 입력하세요 :\"))\n",
        "y1 = int(input(\"첫번째 점의 y 좌표값 y1 값을 입력하세요 :\"))\n",
        "x2 = int(input(\"두번째 점의 x 좌표값 x2 값을 입력하세요 :\"))\n",
        "y2 = int(input(\"두번째 점의 x 좌표값 y2 값을 입력하세요 :\"))\n",
        "\n",
        "distance = int(math.sqrt((x1-x2)**2 + (y1-y2)**2))\n",
        "print(\"두 점 사이의 거리는 {} 입니다.\".format(distance))"
      ],
      "metadata": {
        "colab": {
          "base_uri": "https://localhost:8080/"
        },
        "id": "2mweFGv4j73w",
        "outputId": "388eb453-abc1-46ee-86f8-5fdd7ee34f31"
      },
      "execution_count": 13,
      "outputs": [
        {
          "output_type": "stream",
          "name": "stdout",
          "text": [
            "첫번째 점의 x 좌표값 x1 값을 입력하세요 :4\n",
            "첫번째 점의 y 좌표값 y1 값을 입력하세요 :0\n",
            "두번째 점의 x 좌표값 x2 값을 입력하세요 :6\n",
            "두번째 점의 x 좌표값 y2 값을 입력하세요 :6\n",
            "두 점 사이의 거리는 6 입니다.\n"
          ]
        }
      ]
    },
    {
      "cell_type": "markdown",
      "source": [
        "실습 문제 6"
      ],
      "metadata": {
        "id": "TBzGGAMCmMuE"
      }
    },
    {
      "cell_type": "code",
      "source": [
        "A = 5.6\n",
        "B = 5.8\n",
        "C = 6.2\n",
        "D = 5.2\n",
        "\n",
        "A_meter = 0.3048 * A\n",
        "B_meter = 0.3048 * B\n",
        "C_meter = 0.3048 * C\n",
        "D_meter = 0.3048 * D\n",
        "\n",
        "Mean = (A_meter + B_meter + C_meter + D_meter) /4\n",
        "\n",
        "print(\"A =\", A_meter)\n",
        "print(\"B =\", B_meter)\n",
        "print(\"C =\", C_meter)\n",
        "print(\"D =\", D_meter)\n",
        "print(\"Mean =\", Mean)"
      ],
      "metadata": {
        "colab": {
          "base_uri": "https://localhost:8080/"
        },
        "id": "1qcgVW5Dkyle",
        "outputId": "6af7845b-7f05-41d5-9d24-4c4923ec0679"
      },
      "execution_count": 14,
      "outputs": [
        {
          "output_type": "stream",
          "name": "stdout",
          "text": [
            "A = 1.70688\n",
            "B = 1.76784\n",
            "C = 1.88976\n",
            "D = 1.5849600000000001\n",
            "Mean = 1.7373600000000002\n"
          ]
        }
      ]
    }
  ]
}