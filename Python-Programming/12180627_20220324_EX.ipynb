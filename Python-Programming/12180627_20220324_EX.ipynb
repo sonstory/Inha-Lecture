{
  "nbformat": 4,
  "nbformat_minor": 0,
  "metadata": {
    "colab": {
      "name": "12180627_20220324_EX.ipynb",
      "provenance": [],
      "collapsed_sections": []
    },
    "kernelspec": {
      "name": "python3",
      "display_name": "Python 3"
    },
    "language_info": {
      "name": "python"
    }
  },
  "cells": [
    {
      "cell_type": "markdown",
      "source": [
        "### 실습 문제 1"
      ],
      "metadata": {
        "id": "N3W07TprjjbO"
      }
    },
    {
      "cell_type": "code",
      "execution_count": 2,
      "metadata": {
        "id": "x0YpZfxxiWtY",
        "colab": {
          "base_uri": "https://localhost:8080/"
        },
        "outputId": "89077d83-62f4-41e4-926a-158950844dd7"
      },
      "outputs": [
        {
          "output_type": "stream",
          "name": "stdout",
          "text": [
            " 강나루 건너서\n",
            "밑발 길을 \n",
            "구름에 달 가듯이 \n",
            "가는 나그네. \n",
            "\n",
            "길은 외줄기\n",
            "남도 삼백리.\n",
            "술 익은 마을마다\n",
            "타는 저녁놀.\n",
            "구름에 달 가듯이\n",
            "가는 나그네. \n"
          ]
        }
      ],
      "source": [
        "print(\"\"\" 강나루 건너서\n",
        "밑발 길을 \n",
        "구름에 달 가듯이 \n",
        "가는 나그네. \n",
        "\n",
        "길은 외줄기\n",
        "남도 삼백리.\n",
        "술 익은 마을마다\n",
        "타는 저녁놀.\n",
        "구름에 달 가듯이\n",
        "가는 나그네. \"\"\")"
      ]
    },
    {
      "cell_type": "markdown",
      "source": [
        "### 실습 문제 2"
      ],
      "metadata": {
        "id": "89gL0zyfkI9N"
      }
    },
    {
      "cell_type": "code",
      "source": [
        "print('\\\"그러니까 모자만 써보면 된다는 거잖아!\\\" 론이 해리에게 귓속말을 했다. \\\"프레드 죽여 버릴거야. 트롤하고 레슬링을 해야된댔는데\\\"')"
      ],
      "metadata": {
        "colab": {
          "base_uri": "https://localhost:8080/"
        },
        "id": "OApOtxOakHGm",
        "outputId": "60f0334d-cefa-4ac7-c109-0688c53c5416"
      },
      "execution_count": 5,
      "outputs": [
        {
          "output_type": "stream",
          "name": "stdout",
          "text": [
            "\"그러니까 모자만 써보면 된다는 거잖아!\" 론이 해리에게 귓속말을 했다. \"프레드 죽여 버릴거야. 트롤하고 레슬링을 해야된댔는데\"\n"
          ]
        }
      ]
    },
    {
      "cell_type": "markdown",
      "source": [
        "### 실습 문제 3"
      ],
      "metadata": {
        "id": "PSzyO81tk8I-"
      }
    },
    {
      "cell_type": "code",
      "source": [
        "user = str(input()) * 3\n",
        "print(user)\n",
        "print(\"9번째 인덱스에 위치한문자 :\", user[9])"
      ],
      "metadata": {
        "colab": {
          "base_uri": "https://localhost:8080/"
        },
        "id": "B9EOAJ6NkgEa",
        "outputId": "82b191fb-d8d7-483a-c82f-ae9a12c225f8"
      },
      "execution_count": 25,
      "outputs": [
        {
          "output_type": "stream",
          "name": "stdout",
          "text": [
            "손준영12180627\n",
            "손준영12180627손준영12180627손준영12180627\n",
            "9번째 인덱스에 위치한문자 : 2\n"
          ]
        }
      ]
    },
    {
      "cell_type": "markdown",
      "source": [
        "### 실습 문제 4"
      ],
      "metadata": {
        "id": "cfQu8WGPleDP"
      }
    },
    {
      "cell_type": "code",
      "source": [
        "major = str(input()) * 5\n",
        "print(major)\n",
        "print(major[4:8] + user[6:11])"
      ],
      "metadata": {
        "colab": {
          "base_uri": "https://localhost:8080/"
        },
        "id": "8VHrWwOLlMjX",
        "outputId": "f6fe25e2-07f2-4529-a888-074119f85cf3"
      },
      "execution_count": 16,
      "outputs": [
        {
          "output_type": "stream",
          "name": "stdout",
          "text": [
            "산업경영공학과\n",
            "산업경영공학과산업경영공학과산업경영공학과산업경영공학과산업경영공학과\n",
            "공학과산80627\n"
          ]
        }
      ]
    },
    {
      "cell_type": "markdown",
      "source": [
        "### 실습 문제 5"
      ],
      "metadata": {
        "id": "4-x5lIBVmttd"
      }
    },
    {
      "cell_type": "code",
      "source": [
        "sentences = '''A choice architecture has the responsibility for organizating the context in which people make decisions. Although Carolyn is a figment of our imagination, many real people turn out to be choice architects, most without \\n\n",
        "realizing it. If you design the ballot voters use to choose candidates, you are a choice architect. If you are a doctor and must describe the alternative treatments available to patient, you are a choice architect.'''\n",
        "\n",
        "print(len(sentences))\n",
        "print(sentences.find(\"of\"))"
      ],
      "metadata": {
        "colab": {
          "base_uri": "https://localhost:8080/"
        },
        "id": "r53SkJ79lf79",
        "outputId": "687f8ee6-cf4c-44b7-ddbe-18aaa6465e54"
      },
      "execution_count": 26,
      "outputs": [
        {
          "output_type": "stream",
          "name": "stdout",
          "text": [
            "436\n",
            "136\n"
          ]
        }
      ]
    },
    {
      "cell_type": "markdown",
      "source": [
        "### 실습 문제 6"
      ],
      "metadata": {
        "id": "-S26zGnunO11"
      }
    },
    {
      "cell_type": "code",
      "source": [
        "print(sentences.count(\"choice\"))\n",
        "\n",
        "sentences_2 = sentences.replace(\"choice\", \"select\")\n",
        "print(sentences_2.upper())"
      ],
      "metadata": {
        "colab": {
          "base_uri": "https://localhost:8080/"
        },
        "id": "jeJk40bInHgu",
        "outputId": "382a892e-3885-4106-cb8a-9037ed1d03d9"
      },
      "execution_count": 21,
      "outputs": [
        {
          "output_type": "stream",
          "name": "stdout",
          "text": [
            "4\n",
            "A SELECT ARCHITECTURE HAS THE RESPONSIBILITY FOR ORGANIZATING THE CONTEXT IN\n",
            "WHICH PEOPLE MAKE DECISIONS. ALTHOUGH CAROLYN IS A FIGMENT OF OUR\n",
            "IMAGINATION, MANY REAL PEOPLE TURN OUT TO BE SELECT ARCHITECTS, MOST WITHOUT\n",
            "REALIZING IT. IF YOU DESIGN THE BALLOT VOTERS USE TO CHOOSE CANDIDATES, YOU ARE A\n",
            "SELECT ARCHITECT. IF YOU ARE A DOCTOR AND MUST DESCRIBE THE ALTERNATIVE\n",
            "TREATMENTS AVAILABLE TO PATIENT, YOU ARE A SELECT ARCHITECT.\n"
          ]
        }
      ]
    },
    {
      "cell_type": "markdown",
      "source": [
        "### 실습 문제 7"
      ],
      "metadata": {
        "id": "AncITdtYn3WE"
      }
    },
    {
      "cell_type": "code",
      "source": [
        "sentence = \"When I die, I don't want to rest in peace. I want to dance in joy, I want to dance in the graveryards!!!!!\"\n",
        "print(sentence.replace(\" \", \"-\"))"
      ],
      "metadata": {
        "colab": {
          "base_uri": "https://localhost:8080/"
        },
        "id": "5H2kAGXnnvw2",
        "outputId": "a53bb69b-eea8-4cfd-9e2c-0e7b8378c581"
      },
      "execution_count": 22,
      "outputs": [
        {
          "output_type": "stream",
          "name": "stdout",
          "text": [
            "When-I-die,-I-don't-want-to-rest-in-peace.-I-want-to-dance-in-joy,-I-want-to-dance-in-the-graveryards!!!!!\n"
          ]
        }
      ]
    },
    {
      "cell_type": "markdown",
      "source": [
        "### 실습 문제 8"
      ],
      "metadata": {
        "id": "x9AkuEyBo2Ot"
      }
    },
    {
      "cell_type": "code",
      "source": [
        "import math\n",
        "\n",
        "diameter = int(input(\"원의 지름을 입력하세요 :\"))\n",
        "circle = ((diameter/2) ** 2) * math.pi\n",
        "\n",
        "print(\"원의 넓이는 아래와 같습니다 :{:.3f}\".format(circle))"
      ],
      "metadata": {
        "colab": {
          "base_uri": "https://localhost:8080/"
        },
        "id": "c497rjRyo0kh",
        "outputId": "5d009c4d-e9f5-494d-d29a-bc14914d8c84"
      },
      "execution_count": 23,
      "outputs": [
        {
          "output_type": "stream",
          "name": "stdout",
          "text": [
            "원의 지름을 입력하세요 :10\n",
            "원의 넓이는 아래와 같습니다 :78.540\n"
          ]
        }
      ]
    }
  ]
}