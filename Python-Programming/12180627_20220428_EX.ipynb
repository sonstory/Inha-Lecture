{
  "nbformat": 4,
  "nbformat_minor": 0,
  "metadata": {
    "colab": {
      "name": "12180627_20220428_EX.ipynb",
      "provenance": [],
      "collapsed_sections": []
    },
    "kernelspec": {
      "name": "python3",
      "display_name": "Python 3"
    },
    "language_info": {
      "name": "python"
    }
  },
  "cells": [
    {
      "cell_type": "markdown",
      "source": [
        "# 실습 문제 1"
      ],
      "metadata": {
        "id": "rsP9iu7DQqSE"
      }
    },
    {
      "cell_type": "code",
      "execution_count": null,
      "metadata": {
        "colab": {
          "base_uri": "https://localhost:8080/"
        },
        "id": "PuS5EdaMQg7n",
        "outputId": "97382acb-493e-48fe-825b-4357113debda"
      },
      "outputs": [
        {
          "output_type": "stream",
          "name": "stdout",
          "text": [
            "첫 번째 숫자를 입력하세요 :3.5\n",
            "입력한 숫자는 3.5입니다.\n",
            "두 번째 숫자를 입력하세요 :4.2\n",
            "입력한 숫자는 4.2입니다.\n",
            "3.5와 4.2의 덧셈, 뺄셈, 곱셈, 나눗셈 결과는 7.70, -0.70, 14.70, 0.83입니다.\n"
          ]
        }
      ],
      "source": [
        "x = float(input('첫 번째 숫자를 입력하세요 :'))\n",
        "print('입력한 숫자는 {}입니다.'.format(x))\n",
        "y = float(input('두 번째 숫자를 입력하세요 :'))\n",
        "print('입력한 숫자는 {}입니다.'.format(y))\n",
        "\n",
        "def calculation(x,y):\n",
        "    plus = x + y\n",
        "    minus = x - y\n",
        "    multiplication = x * y\n",
        "    division = x / y\n",
        "\n",
        "    print('{}와 {}의 덧셈, 뺄셈, 곱셈, 나눗셈 결과는 {:.2f}, {:.2f}, {:.2f}, {:.2f}입니다.'.format(x, y, plus, minus, multiplication, division))\n",
        "\n",
        "calculation(x,y)"
      ]
    },
    {
      "cell_type": "markdown",
      "source": [
        "# 실습 문제 2"
      ],
      "metadata": {
        "id": "aTMB6qDk0Z2c"
      }
    },
    {
      "cell_type": "code",
      "source": [
        "import math\n",
        "\n",
        "num = [1,9,16,3,5,2,8,7]\n",
        "def tmp(num):\n",
        "    result = []\n",
        "    for i in num:\n",
        "        result.append(math.sqrt(i))\n",
        "    return result\n",
        "\n",
        "print(tmp(num))"
      ],
      "metadata": {
        "id": "-ggmT1eITKhl",
        "colab": {
          "base_uri": "https://localhost:8080/"
        },
        "outputId": "c9efc0e7-9179-404d-aebd-53bcc4f55bcb"
      },
      "execution_count": null,
      "outputs": [
        {
          "output_type": "stream",
          "name": "stdout",
          "text": [
            "[1.0, 3.0, 4.0, 1.7320508075688772, 2.23606797749979, 1.4142135623730951, 2.8284271247461903, 2.6457513110645907]\n"
          ]
        }
      ]
    },
    {
      "cell_type": "markdown",
      "source": [
        "# 실습 문제 3"
      ],
      "metadata": {
        "id": "KYLsh85T2Cgv"
      }
    },
    {
      "cell_type": "code",
      "source": [
        "import numpy as np\n",
        "\n",
        "def mean(*score):\n",
        "    print(\"평균 중간고사 점수는: {}입니다\" .format(np.mean(score)))\n",
        "\n",
        "mean(82,39,90,40,20,89,69,79,89,98,79,88,38,58,68,80,78,73,89,93)"
      ],
      "metadata": {
        "colab": {
          "base_uri": "https://localhost:8080/"
        },
        "id": "8fjVXm7jPOTC",
        "outputId": "05057076-ec4f-4704-b9d5-c06e0b578726"
      },
      "execution_count": 1,
      "outputs": [
        {
          "output_type": "stream",
          "name": "stdout",
          "text": [
            "평균 중간고사 점수는: 71.95입니다\n"
          ]
        }
      ]
    },
    {
      "cell_type": "markdown",
      "source": [
        "# 실습 문제 4"
      ],
      "metadata": {
        "id": "mGiEB0fU3ZAM"
      }
    },
    {
      "cell_type": "code",
      "source": [
        "num = [1,2,3,5,4,3,6,5,4,3,2,3,4,4,1,1,3]\n",
        "\n",
        "def tmp(num):\n",
        "    num = list(set(num))\n",
        "    return num\n",
        "\n",
        "print(tmp(num))"
      ],
      "metadata": {
        "colab": {
          "base_uri": "https://localhost:8080/"
        },
        "id": "bRPtcTTy277w",
        "outputId": "e041b5f1-26d9-4bfa-c55c-84d8923cded4"
      },
      "execution_count": null,
      "outputs": [
        {
          "output_type": "stream",
          "name": "stdout",
          "text": [
            "[1, 2, 3, 4, 5, 6]\n"
          ]
        }
      ]
    },
    {
      "cell_type": "markdown",
      "source": [
        "# 실습 문제 5"
      ],
      "metadata": {
        "id": "upKxWLTi3oMD"
      }
    },
    {
      "cell_type": "code",
      "source": [
        "def gugudan(n):\n",
        "    print('입력받은 숫자는 {}입니다.'.format(n))\n",
        "    for i in range(1,10):\n",
        "        print('{}*{}={}'.format(n,i,n*i))\n",
        "\n",
        "while True:\n",
        "    n = int(input('1부터 9 사이의 숫자를 입력하세요: '))\n",
        "    if n == 0:\n",
        "        print('입력받은 숫자는 0입니다.')\n",
        "    elif n < 0 or n > 9:\n",
        "        print('입력받은 숫자는 {}입니다.'.format(n))\n",
        "    else:\n",
        "        gugudan(n)\n",
        "        break"
      ],
      "metadata": {
        "colab": {
          "base_uri": "https://localhost:8080/"
        },
        "id": "DXgKEqSC3mwB",
        "outputId": "cf50d34a-a1cc-4f6d-fcc5-6abd410338e6"
      },
      "execution_count": null,
      "outputs": [
        {
          "output_type": "stream",
          "name": "stdout",
          "text": [
            "1부터 9 사이의 숫자를 입력하세요: 0\n",
            "입력받은 숫자는 0입니다.\n",
            "1부터 9 사이의 숫자를 입력하세요: -1\n",
            "입력받은 숫자는 -1입니다.\n",
            "1부터 9 사이의 숫자를 입력하세요: 5\n",
            "입력받은 숫자는 5입니다.\n",
            "5*1=5\n",
            "5*2=10\n",
            "5*3=15\n",
            "5*4=20\n",
            "5*5=25\n",
            "5*6=30\n",
            "5*7=35\n",
            "5*8=40\n",
            "5*9=45\n"
          ]
        }
      ]
    },
    {
      "cell_type": "markdown",
      "source": [
        "# 실습 문제 6"
      ],
      "metadata": {
        "id": "m6ek8VMl4K10"
      }
    },
    {
      "cell_type": "code",
      "source": [
        "def minimum(a,b,c):\n",
        "    if a < b and a < c:\n",
        "        return a\n",
        "    elif b > a and b > c:\n",
        "        return b\n",
        "    elif c > a and c > b:\n",
        "        return c\n",
        "\n",
        "print(minimum(5,36,56))"
      ],
      "metadata": {
        "colab": {
          "base_uri": "https://localhost:8080/"
        },
        "id": "pjIcOtLe3_9f",
        "outputId": "660ffbac-139c-4abe-adc5-f7f6f166c79e"
      },
      "execution_count": null,
      "outputs": [
        {
          "output_type": "stream",
          "name": "stdout",
          "text": [
            "5\n"
          ]
        }
      ]
    },
    {
      "cell_type": "markdown",
      "source": [
        "# 실습 문제 7"
      ],
      "metadata": {
        "id": "o8K1_Qq04cf4"
      }
    },
    {
      "cell_type": "code",
      "source": [
        "def harmonic(n):\n",
        "    if n == 1:\n",
        "        return 1\n",
        "    else:\n",
        "        harmonic(n-1)\n",
        "        return 1/n +harmonic(n-1)\n",
        "\n",
        "print(harmonic(5))"
      ],
      "metadata": {
        "colab": {
          "base_uri": "https://localhost:8080/"
        },
        "id": "SCS6nYv_4bMQ",
        "outputId": "b0b3d743-6572-40c7-eb7c-5551b3f2715a"
      },
      "execution_count": null,
      "outputs": [
        {
          "output_type": "stream",
          "name": "stdout",
          "text": [
            "2.283333333333333\n"
          ]
        }
      ]
    }
  ]
}